{
 "cells": [
  {
   "cell_type": "code",
   "execution_count": 1,
   "id": "30e46a9d",
   "metadata": {
    "execution": {
     "iopub.execute_input": "2023-04-18T04:35:21.217521Z",
     "iopub.status.busy": "2023-04-18T04:35:21.217089Z",
     "iopub.status.idle": "2023-04-18T04:35:22.723101Z",
     "shell.execute_reply": "2023-04-18T04:35:22.722016Z"
    },
    "executionInfo": {
     "elapsed": 431,
     "status": "ok",
     "timestamp": 1660715034766,
     "user": {
      "displayName": "Dileep Kasimalla",
      "userId": "10476111366108519388"
     },
     "user_tz": -330
    },
    "id": "b54b93fd",
    "papermill": {
     "duration": 1.531092,
     "end_time": "2023-04-18T04:35:22.726070",
     "exception": false,
     "start_time": "2023-04-18T04:35:21.194978",
     "status": "completed"
    },
    "tags": []
   },
   "outputs": [],
   "source": [
    "import numpy as np\n",
    "import matplotlib.pyplot as plt\n",
    "import pandas as pd\n",
    "import seaborn as sns\n",
    "\n",
    "from sklearn.preprocessing import  LabelEncoder\n",
    "from sklearn.linear_model import LogisticRegression\n",
    "from sklearn.metrics import confusion_matrix, accuracy_score , r2_score"
   ]
  },
  {
   "cell_type": "markdown",
   "id": "1e858c92",
   "metadata": {
    "id": "121b4d2c",
    "papermill": {
     "duration": 0.019883,
     "end_time": "2023-04-18T04:35:22.764657",
     "exception": false,
     "start_time": "2023-04-18T04:35:22.744774",
     "status": "completed"
    },
    "tags": []
   },
   "source": [
    "# 1. Reading & Data Preprocessing\n",
    "\n",
    "\n",
    "#### a. Read the data"
   ]
  },
  {
   "cell_type": "code",
   "execution_count": 2,
   "id": "bf910237",
   "metadata": {
    "execution": {
     "iopub.execute_input": "2023-04-18T04:35:22.803467Z",
     "iopub.status.busy": "2023-04-18T04:35:22.803043Z",
     "iopub.status.idle": "2023-04-18T04:35:22.811306Z",
     "shell.execute_reply": "2023-04-18T04:35:22.809869Z"
    },
    "papermill": {
     "duration": 0.030594,
     "end_time": "2023-04-18T04:35:22.813655",
     "exception": false,
     "start_time": "2023-04-18T04:35:22.783061",
     "status": "completed"
    },
    "tags": []
   },
   "outputs": [
    {
     "name": "stdout",
     "output_type": "stream",
     "text": [
      "/kaggle/input/telco-data-dataset\n"
     ]
    }
   ],
   "source": [
    "cd /kaggle/input/telco-data-dataset"
   ]
  },
  {
   "cell_type": "code",
   "execution_count": 3,
   "id": "ca90bbfd",
   "metadata": {
    "execution": {
     "iopub.execute_input": "2023-04-18T04:35:22.853233Z",
     "iopub.status.busy": "2023-04-18T04:35:22.852488Z",
     "iopub.status.idle": "2023-04-18T04:35:22.891805Z",
     "shell.execute_reply": "2023-04-18T04:35:22.890499Z"
    },
    "executionInfo": {
     "elapsed": 535,
     "status": "ok",
     "timestamp": 1660715038006,
     "user": {
      "displayName": "Dileep Kasimalla",
      "userId": "10476111366108519388"
     },
     "user_tz": -330
    },
    "id": "e6770895",
    "papermill": {
     "duration": 0.062383,
     "end_time": "2023-04-18T04:35:22.894705",
     "exception": false,
     "start_time": "2023-04-18T04:35:22.832322",
     "status": "completed"
    },
    "tags": []
   },
   "outputs": [],
   "source": [
    "data=pd.read_csv(\"telco_data.csv\")"
   ]
  },
  {
   "cell_type": "markdown",
   "id": "5f17a475",
   "metadata": {
    "id": "63c46fef",
    "papermill": {
     "duration": 0.018291,
     "end_time": "2023-04-18T04:35:22.931786",
     "exception": false,
     "start_time": "2023-04-18T04:35:22.913495",
     "status": "completed"
    },
    "tags": []
   },
   "source": [
    "#### b. Explore and understand the data"
   ]
  },
  {
   "cell_type": "code",
   "execution_count": 4,
   "id": "4eb3aff5",
   "metadata": {
    "execution": {
     "iopub.execute_input": "2023-04-18T04:35:22.971256Z",
     "iopub.status.busy": "2023-04-18T04:35:22.970565Z",
     "iopub.status.idle": "2023-04-18T04:35:23.011481Z",
     "shell.execute_reply": "2023-04-18T04:35:23.010303Z"
    },
    "executionInfo": {
     "elapsed": 11,
     "status": "ok",
     "timestamp": 1660715039774,
     "user": {
      "displayName": "Dileep Kasimalla",
      "userId": "10476111366108519388"
     },
     "user_tz": -330
    },
    "id": "d2b49ea4",
    "outputId": "8f3d709d-587f-4909-d850-7707a939e45a",
    "papermill": {
     "duration": 0.06376,
     "end_time": "2023-04-18T04:35:23.014327",
     "exception": false,
     "start_time": "2023-04-18T04:35:22.950567",
     "status": "completed"
    },
    "tags": []
   },
   "outputs": [
    {
     "data": {
      "text/html": [
       "<div>\n",
       "<style scoped>\n",
       "    .dataframe tbody tr th:only-of-type {\n",
       "        vertical-align: middle;\n",
       "    }\n",
       "\n",
       "    .dataframe tbody tr th {\n",
       "        vertical-align: top;\n",
       "    }\n",
       "\n",
       "    .dataframe thead th {\n",
       "        text-align: right;\n",
       "    }\n",
       "</style>\n",
       "<table border=\"1\" class=\"dataframe\">\n",
       "  <thead>\n",
       "    <tr style=\"text-align: right;\">\n",
       "      <th></th>\n",
       "      <th>International.Plan</th>\n",
       "      <th>Voice.Mail.Plan</th>\n",
       "      <th>X..Vmail.Messages</th>\n",
       "      <th>Total.Day.Minutes</th>\n",
       "      <th>Total.Day.Calls</th>\n",
       "      <th>Total.Day.Charge</th>\n",
       "      <th>Total.Eve.Minutes</th>\n",
       "      <th>Total.Eve.Calls</th>\n",
       "      <th>Total.Eve.Charge</th>\n",
       "      <th>Total.Night.Minutes</th>\n",
       "      <th>Total.Night.Calls</th>\n",
       "      <th>Total.Night.Charge</th>\n",
       "      <th>Total.Intl.Minutes</th>\n",
       "      <th>Total.Intl.Calls</th>\n",
       "      <th>Total.Intl.Charge</th>\n",
       "      <th>X..customer.Service.Calls</th>\n",
       "      <th>Churn</th>\n",
       "      <th>trainrows</th>\n",
       "    </tr>\n",
       "  </thead>\n",
       "  <tbody>\n",
       "    <tr>\n",
       "      <th>0</th>\n",
       "      <td>no</td>\n",
       "      <td>yes</td>\n",
       "      <td>25</td>\n",
       "      <td>265.1</td>\n",
       "      <td>110</td>\n",
       "      <td>45.07</td>\n",
       "      <td>197.4</td>\n",
       "      <td>99</td>\n",
       "      <td>16.78</td>\n",
       "      <td>244.7</td>\n",
       "      <td>91</td>\n",
       "      <td>11.01</td>\n",
       "      <td>10.0</td>\n",
       "      <td>3</td>\n",
       "      <td>2.70</td>\n",
       "      <td>1</td>\n",
       "      <td>False.</td>\n",
       "      <td>No</td>\n",
       "    </tr>\n",
       "    <tr>\n",
       "      <th>1</th>\n",
       "      <td>no</td>\n",
       "      <td>yes</td>\n",
       "      <td>26</td>\n",
       "      <td>161.6</td>\n",
       "      <td>123</td>\n",
       "      <td>27.47</td>\n",
       "      <td>195.5</td>\n",
       "      <td>103</td>\n",
       "      <td>16.62</td>\n",
       "      <td>254.4</td>\n",
       "      <td>103</td>\n",
       "      <td>11.45</td>\n",
       "      <td>13.7</td>\n",
       "      <td>3</td>\n",
       "      <td>3.70</td>\n",
       "      <td>1</td>\n",
       "      <td>False.</td>\n",
       "      <td>Yes</td>\n",
       "    </tr>\n",
       "    <tr>\n",
       "      <th>2</th>\n",
       "      <td>no</td>\n",
       "      <td>no</td>\n",
       "      <td>0</td>\n",
       "      <td>243.4</td>\n",
       "      <td>114</td>\n",
       "      <td>41.38</td>\n",
       "      <td>121.2</td>\n",
       "      <td>110</td>\n",
       "      <td>10.30</td>\n",
       "      <td>162.6</td>\n",
       "      <td>104</td>\n",
       "      <td>7.32</td>\n",
       "      <td>12.2</td>\n",
       "      <td>5</td>\n",
       "      <td>3.29</td>\n",
       "      <td>0</td>\n",
       "      <td>False.</td>\n",
       "      <td>Yes</td>\n",
       "    </tr>\n",
       "    <tr>\n",
       "      <th>3</th>\n",
       "      <td>yes</td>\n",
       "      <td>no</td>\n",
       "      <td>0</td>\n",
       "      <td>299.4</td>\n",
       "      <td>71</td>\n",
       "      <td>50.90</td>\n",
       "      <td>61.9</td>\n",
       "      <td>88</td>\n",
       "      <td>5.26</td>\n",
       "      <td>196.9</td>\n",
       "      <td>89</td>\n",
       "      <td>8.86</td>\n",
       "      <td>6.6</td>\n",
       "      <td>7</td>\n",
       "      <td>1.78</td>\n",
       "      <td>2</td>\n",
       "      <td>False.</td>\n",
       "      <td>Yes</td>\n",
       "    </tr>\n",
       "    <tr>\n",
       "      <th>4</th>\n",
       "      <td>yes</td>\n",
       "      <td>no</td>\n",
       "      <td>0</td>\n",
       "      <td>166.7</td>\n",
       "      <td>113</td>\n",
       "      <td>28.34</td>\n",
       "      <td>148.3</td>\n",
       "      <td>122</td>\n",
       "      <td>12.61</td>\n",
       "      <td>186.9</td>\n",
       "      <td>121</td>\n",
       "      <td>8.41</td>\n",
       "      <td>10.1</td>\n",
       "      <td>3</td>\n",
       "      <td>2.73</td>\n",
       "      <td>3</td>\n",
       "      <td>False.</td>\n",
       "      <td>Yes</td>\n",
       "    </tr>\n",
       "  </tbody>\n",
       "</table>\n",
       "</div>"
      ],
      "text/plain": [
       "  International.Plan Voice.Mail.Plan  X..Vmail.Messages  Total.Day.Minutes  \\\n",
       "0                 no             yes                 25              265.1   \n",
       "1                 no             yes                 26              161.6   \n",
       "2                 no              no                  0              243.4   \n",
       "3                yes              no                  0              299.4   \n",
       "4                yes              no                  0              166.7   \n",
       "\n",
       "   Total.Day.Calls  Total.Day.Charge  Total.Eve.Minutes  Total.Eve.Calls  \\\n",
       "0              110             45.07              197.4               99   \n",
       "1              123             27.47              195.5              103   \n",
       "2              114             41.38              121.2              110   \n",
       "3               71             50.90               61.9               88   \n",
       "4              113             28.34              148.3              122   \n",
       "\n",
       "   Total.Eve.Charge  Total.Night.Minutes  Total.Night.Calls  \\\n",
       "0             16.78                244.7                 91   \n",
       "1             16.62                254.4                103   \n",
       "2             10.30                162.6                104   \n",
       "3              5.26                196.9                 89   \n",
       "4             12.61                186.9                121   \n",
       "\n",
       "   Total.Night.Charge  Total.Intl.Minutes  Total.Intl.Calls  \\\n",
       "0               11.01                10.0                 3   \n",
       "1               11.45                13.7                 3   \n",
       "2                7.32                12.2                 5   \n",
       "3                8.86                 6.6                 7   \n",
       "4                8.41                10.1                 3   \n",
       "\n",
       "   Total.Intl.Charge  X..customer.Service.Calls   Churn trainrows  \n",
       "0               2.70                          1  False.        No  \n",
       "1               3.70                          1  False.       Yes  \n",
       "2               3.29                          0  False.       Yes  \n",
       "3               1.78                          2  False.       Yes  \n",
       "4               2.73                          3  False.       Yes  "
      ]
     },
     "execution_count": 4,
     "metadata": {},
     "output_type": "execute_result"
    }
   ],
   "source": [
    "data.head()"
   ]
  },
  {
   "cell_type": "code",
   "execution_count": 5,
   "id": "a74a8950",
   "metadata": {
    "execution": {
     "iopub.execute_input": "2023-04-18T04:35:23.054391Z",
     "iopub.status.busy": "2023-04-18T04:35:23.053993Z",
     "iopub.status.idle": "2023-04-18T04:35:23.082225Z",
     "shell.execute_reply": "2023-04-18T04:35:23.081005Z"
    },
    "executionInfo": {
     "elapsed": 507,
     "status": "ok",
     "timestamp": 1660715042746,
     "user": {
      "displayName": "Dileep Kasimalla",
      "userId": "10476111366108519388"
     },
     "user_tz": -330
    },
    "id": "b2f16b96",
    "outputId": "5e466c72-87b7-49c2-f95a-5f5c34d48cd2",
    "papermill": {
     "duration": 0.051456,
     "end_time": "2023-04-18T04:35:23.084874",
     "exception": false,
     "start_time": "2023-04-18T04:35:23.033418",
     "status": "completed"
    },
    "tags": []
   },
   "outputs": [
    {
     "name": "stdout",
     "output_type": "stream",
     "text": [
      "<class 'pandas.core.frame.DataFrame'>\n",
      "RangeIndex: 5000 entries, 0 to 4999\n",
      "Data columns (total 18 columns):\n",
      " #   Column                     Non-Null Count  Dtype  \n",
      "---  ------                     --------------  -----  \n",
      " 0   International.Plan         5000 non-null   object \n",
      " 1   Voice.Mail.Plan            5000 non-null   object \n",
      " 2   X..Vmail.Messages          5000 non-null   int64  \n",
      " 3   Total.Day.Minutes          5000 non-null   float64\n",
      " 4   Total.Day.Calls            5000 non-null   int64  \n",
      " 5   Total.Day.Charge           5000 non-null   float64\n",
      " 6   Total.Eve.Minutes          5000 non-null   float64\n",
      " 7   Total.Eve.Calls            5000 non-null   int64  \n",
      " 8   Total.Eve.Charge           5000 non-null   float64\n",
      " 9   Total.Night.Minutes        5000 non-null   float64\n",
      " 10  Total.Night.Calls          5000 non-null   int64  \n",
      " 11  Total.Night.Charge         5000 non-null   float64\n",
      " 12  Total.Intl.Minutes         5000 non-null   float64\n",
      " 13  Total.Intl.Calls           5000 non-null   int64  \n",
      " 14  Total.Intl.Charge          5000 non-null   float64\n",
      " 15  X..customer.Service.Calls  5000 non-null   int64  \n",
      " 16  Churn                      5000 non-null   object \n",
      " 17  trainrows                  5000 non-null   object \n",
      "dtypes: float64(8), int64(6), object(4)\n",
      "memory usage: 703.2+ KB\n"
     ]
    }
   ],
   "source": [
    "data.info()"
   ]
  },
  {
   "cell_type": "code",
   "execution_count": 6,
   "id": "34e1dc52",
   "metadata": {
    "execution": {
     "iopub.execute_input": "2023-04-18T04:35:23.125288Z",
     "iopub.status.busy": "2023-04-18T04:35:23.124481Z",
     "iopub.status.idle": "2023-04-18T04:35:23.131541Z",
     "shell.execute_reply": "2023-04-18T04:35:23.130380Z"
    },
    "executionInfo": {
     "elapsed": 398,
     "status": "ok",
     "timestamp": 1660715045931,
     "user": {
      "displayName": "Dileep Kasimalla",
      "userId": "10476111366108519388"
     },
     "user_tz": -330
    },
    "id": "42392510",
    "outputId": "4747fde4-010c-404b-b004-aee50b5ee59e",
    "papermill": {
     "duration": 0.029931,
     "end_time": "2023-04-18T04:35:23.133987",
     "exception": false,
     "start_time": "2023-04-18T04:35:23.104056",
     "status": "completed"
    },
    "tags": []
   },
   "outputs": [
    {
     "data": {
      "text/plain": [
       "(5000, 18)"
      ]
     },
     "execution_count": 6,
     "metadata": {},
     "output_type": "execute_result"
    }
   ],
   "source": [
    "data.shape"
   ]
  },
  {
   "cell_type": "code",
   "execution_count": 7,
   "id": "fbebbbea",
   "metadata": {
    "execution": {
     "iopub.execute_input": "2023-04-18T04:35:23.174930Z",
     "iopub.status.busy": "2023-04-18T04:35:23.173504Z",
     "iopub.status.idle": "2023-04-18T04:35:23.234123Z",
     "shell.execute_reply": "2023-04-18T04:35:23.232754Z"
    },
    "executionInfo": {
     "elapsed": 397,
     "status": "ok",
     "timestamp": 1660715048480,
     "user": {
      "displayName": "Dileep Kasimalla",
      "userId": "10476111366108519388"
     },
     "user_tz": -330
    },
    "id": "82508038",
    "outputId": "23b4e564-d1cf-40d1-e114-5931628f7345",
    "papermill": {
     "duration": 0.083624,
     "end_time": "2023-04-18T04:35:23.236720",
     "exception": false,
     "start_time": "2023-04-18T04:35:23.153096",
     "status": "completed"
    },
    "tags": []
   },
   "outputs": [
    {
     "data": {
      "text/html": [
       "<div>\n",
       "<style scoped>\n",
       "    .dataframe tbody tr th:only-of-type {\n",
       "        vertical-align: middle;\n",
       "    }\n",
       "\n",
       "    .dataframe tbody tr th {\n",
       "        vertical-align: top;\n",
       "    }\n",
       "\n",
       "    .dataframe thead th {\n",
       "        text-align: right;\n",
       "    }\n",
       "</style>\n",
       "<table border=\"1\" class=\"dataframe\">\n",
       "  <thead>\n",
       "    <tr style=\"text-align: right;\">\n",
       "      <th></th>\n",
       "      <th>X..Vmail.Messages</th>\n",
       "      <th>Total.Day.Minutes</th>\n",
       "      <th>Total.Day.Calls</th>\n",
       "      <th>Total.Day.Charge</th>\n",
       "      <th>Total.Eve.Minutes</th>\n",
       "      <th>Total.Eve.Calls</th>\n",
       "      <th>Total.Eve.Charge</th>\n",
       "      <th>Total.Night.Minutes</th>\n",
       "      <th>Total.Night.Calls</th>\n",
       "      <th>Total.Night.Charge</th>\n",
       "      <th>Total.Intl.Minutes</th>\n",
       "      <th>Total.Intl.Calls</th>\n",
       "      <th>Total.Intl.Charge</th>\n",
       "      <th>X..customer.Service.Calls</th>\n",
       "    </tr>\n",
       "  </thead>\n",
       "  <tbody>\n",
       "    <tr>\n",
       "      <th>count</th>\n",
       "      <td>5000.000000</td>\n",
       "      <td>5000.000000</td>\n",
       "      <td>5000.000000</td>\n",
       "      <td>5000.000000</td>\n",
       "      <td>5000.000000</td>\n",
       "      <td>5000.000000</td>\n",
       "      <td>5000.000000</td>\n",
       "      <td>5000.000000</td>\n",
       "      <td>5000.000000</td>\n",
       "      <td>5000.000000</td>\n",
       "      <td>5000.000000</td>\n",
       "      <td>5000.000000</td>\n",
       "      <td>5000.000000</td>\n",
       "      <td>5000.000000</td>\n",
       "    </tr>\n",
       "    <tr>\n",
       "      <th>mean</th>\n",
       "      <td>7.755200</td>\n",
       "      <td>180.288900</td>\n",
       "      <td>100.029400</td>\n",
       "      <td>30.649668</td>\n",
       "      <td>200.636560</td>\n",
       "      <td>100.191000</td>\n",
       "      <td>17.054322</td>\n",
       "      <td>200.391620</td>\n",
       "      <td>99.919200</td>\n",
       "      <td>9.017732</td>\n",
       "      <td>10.261780</td>\n",
       "      <td>4.435200</td>\n",
       "      <td>2.771196</td>\n",
       "      <td>1.570400</td>\n",
       "    </tr>\n",
       "    <tr>\n",
       "      <th>std</th>\n",
       "      <td>13.546393</td>\n",
       "      <td>53.894699</td>\n",
       "      <td>19.831197</td>\n",
       "      <td>9.162069</td>\n",
       "      <td>50.551309</td>\n",
       "      <td>19.826496</td>\n",
       "      <td>4.296843</td>\n",
       "      <td>50.527789</td>\n",
       "      <td>19.958686</td>\n",
       "      <td>2.273763</td>\n",
       "      <td>2.761396</td>\n",
       "      <td>2.456788</td>\n",
       "      <td>0.745514</td>\n",
       "      <td>1.306363</td>\n",
       "    </tr>\n",
       "    <tr>\n",
       "      <th>min</th>\n",
       "      <td>0.000000</td>\n",
       "      <td>0.000000</td>\n",
       "      <td>0.000000</td>\n",
       "      <td>0.000000</td>\n",
       "      <td>0.000000</td>\n",
       "      <td>0.000000</td>\n",
       "      <td>0.000000</td>\n",
       "      <td>0.000000</td>\n",
       "      <td>0.000000</td>\n",
       "      <td>0.000000</td>\n",
       "      <td>0.000000</td>\n",
       "      <td>0.000000</td>\n",
       "      <td>0.000000</td>\n",
       "      <td>0.000000</td>\n",
       "    </tr>\n",
       "    <tr>\n",
       "      <th>25%</th>\n",
       "      <td>0.000000</td>\n",
       "      <td>143.700000</td>\n",
       "      <td>87.000000</td>\n",
       "      <td>24.430000</td>\n",
       "      <td>166.375000</td>\n",
       "      <td>87.000000</td>\n",
       "      <td>14.140000</td>\n",
       "      <td>166.900000</td>\n",
       "      <td>87.000000</td>\n",
       "      <td>7.510000</td>\n",
       "      <td>8.500000</td>\n",
       "      <td>3.000000</td>\n",
       "      <td>2.300000</td>\n",
       "      <td>1.000000</td>\n",
       "    </tr>\n",
       "    <tr>\n",
       "      <th>50%</th>\n",
       "      <td>0.000000</td>\n",
       "      <td>180.100000</td>\n",
       "      <td>100.000000</td>\n",
       "      <td>30.620000</td>\n",
       "      <td>201.000000</td>\n",
       "      <td>100.000000</td>\n",
       "      <td>17.090000</td>\n",
       "      <td>200.400000</td>\n",
       "      <td>100.000000</td>\n",
       "      <td>9.020000</td>\n",
       "      <td>10.300000</td>\n",
       "      <td>4.000000</td>\n",
       "      <td>2.780000</td>\n",
       "      <td>1.000000</td>\n",
       "    </tr>\n",
       "    <tr>\n",
       "      <th>75%</th>\n",
       "      <td>17.000000</td>\n",
       "      <td>216.200000</td>\n",
       "      <td>113.000000</td>\n",
       "      <td>36.750000</td>\n",
       "      <td>234.100000</td>\n",
       "      <td>114.000000</td>\n",
       "      <td>19.900000</td>\n",
       "      <td>234.700000</td>\n",
       "      <td>113.000000</td>\n",
       "      <td>10.560000</td>\n",
       "      <td>12.000000</td>\n",
       "      <td>6.000000</td>\n",
       "      <td>3.240000</td>\n",
       "      <td>2.000000</td>\n",
       "    </tr>\n",
       "    <tr>\n",
       "      <th>max</th>\n",
       "      <td>52.000000</td>\n",
       "      <td>351.500000</td>\n",
       "      <td>165.000000</td>\n",
       "      <td>59.760000</td>\n",
       "      <td>363.700000</td>\n",
       "      <td>170.000000</td>\n",
       "      <td>30.910000</td>\n",
       "      <td>395.000000</td>\n",
       "      <td>175.000000</td>\n",
       "      <td>17.770000</td>\n",
       "      <td>20.000000</td>\n",
       "      <td>20.000000</td>\n",
       "      <td>5.400000</td>\n",
       "      <td>9.000000</td>\n",
       "    </tr>\n",
       "  </tbody>\n",
       "</table>\n",
       "</div>"
      ],
      "text/plain": [
       "       X..Vmail.Messages  Total.Day.Minutes  Total.Day.Calls  \\\n",
       "count        5000.000000        5000.000000      5000.000000   \n",
       "mean            7.755200         180.288900       100.029400   \n",
       "std            13.546393          53.894699        19.831197   \n",
       "min             0.000000           0.000000         0.000000   \n",
       "25%             0.000000         143.700000        87.000000   \n",
       "50%             0.000000         180.100000       100.000000   \n",
       "75%            17.000000         216.200000       113.000000   \n",
       "max            52.000000         351.500000       165.000000   \n",
       "\n",
       "       Total.Day.Charge  Total.Eve.Minutes  Total.Eve.Calls  Total.Eve.Charge  \\\n",
       "count       5000.000000        5000.000000      5000.000000       5000.000000   \n",
       "mean          30.649668         200.636560       100.191000         17.054322   \n",
       "std            9.162069          50.551309        19.826496          4.296843   \n",
       "min            0.000000           0.000000         0.000000          0.000000   \n",
       "25%           24.430000         166.375000        87.000000         14.140000   \n",
       "50%           30.620000         201.000000       100.000000         17.090000   \n",
       "75%           36.750000         234.100000       114.000000         19.900000   \n",
       "max           59.760000         363.700000       170.000000         30.910000   \n",
       "\n",
       "       Total.Night.Minutes  Total.Night.Calls  Total.Night.Charge  \\\n",
       "count          5000.000000        5000.000000         5000.000000   \n",
       "mean            200.391620          99.919200            9.017732   \n",
       "std              50.527789          19.958686            2.273763   \n",
       "min               0.000000           0.000000            0.000000   \n",
       "25%             166.900000          87.000000            7.510000   \n",
       "50%             200.400000         100.000000            9.020000   \n",
       "75%             234.700000         113.000000           10.560000   \n",
       "max             395.000000         175.000000           17.770000   \n",
       "\n",
       "       Total.Intl.Minutes  Total.Intl.Calls  Total.Intl.Charge  \\\n",
       "count         5000.000000       5000.000000        5000.000000   \n",
       "mean            10.261780          4.435200           2.771196   \n",
       "std              2.761396          2.456788           0.745514   \n",
       "min              0.000000          0.000000           0.000000   \n",
       "25%              8.500000          3.000000           2.300000   \n",
       "50%             10.300000          4.000000           2.780000   \n",
       "75%             12.000000          6.000000           3.240000   \n",
       "max             20.000000         20.000000           5.400000   \n",
       "\n",
       "       X..customer.Service.Calls  \n",
       "count                5000.000000  \n",
       "mean                    1.570400  \n",
       "std                     1.306363  \n",
       "min                     0.000000  \n",
       "25%                     1.000000  \n",
       "50%                     1.000000  \n",
       "75%                     2.000000  \n",
       "max                     9.000000  "
      ]
     },
     "execution_count": 7,
     "metadata": {},
     "output_type": "execute_result"
    }
   ],
   "source": [
    "data.describe()"
   ]
  },
  {
   "cell_type": "code",
   "execution_count": 8,
   "id": "94001338",
   "metadata": {
    "execution": {
     "iopub.execute_input": "2023-04-18T04:35:23.278549Z",
     "iopub.status.busy": "2023-04-18T04:35:23.277560Z",
     "iopub.status.idle": "2023-04-18T04:35:23.284435Z",
     "shell.execute_reply": "2023-04-18T04:35:23.283565Z"
    },
    "executionInfo": {
     "elapsed": 588,
     "status": "ok",
     "timestamp": 1660715052530,
     "user": {
      "displayName": "Dileep Kasimalla",
      "userId": "10476111366108519388"
     },
     "user_tz": -330
    },
    "id": "c620f2e9",
    "outputId": "5718638b-dfee-4716-c8f7-578447a39d00",
    "papermill": {
     "duration": 0.030201,
     "end_time": "2023-04-18T04:35:23.286626",
     "exception": false,
     "start_time": "2023-04-18T04:35:23.256425",
     "status": "completed"
    },
    "tags": []
   },
   "outputs": [
    {
     "data": {
      "text/plain": [
       "Index(['International.Plan', 'Voice.Mail.Plan', 'X..Vmail.Messages',\n",
       "       'Total.Day.Minutes', 'Total.Day.Calls', 'Total.Day.Charge',\n",
       "       'Total.Eve.Minutes', 'Total.Eve.Calls', 'Total.Eve.Charge',\n",
       "       'Total.Night.Minutes', 'Total.Night.Calls', 'Total.Night.Charge',\n",
       "       'Total.Intl.Minutes', 'Total.Intl.Calls', 'Total.Intl.Charge',\n",
       "       'X..customer.Service.Calls', 'Churn', 'trainrows'],\n",
       "      dtype='object')"
      ]
     },
     "execution_count": 8,
     "metadata": {},
     "output_type": "execute_result"
    }
   ],
   "source": [
    "data.columns"
   ]
  },
  {
   "cell_type": "code",
   "execution_count": 9,
   "id": "1400b16e",
   "metadata": {
    "execution": {
     "iopub.execute_input": "2023-04-18T04:35:23.327988Z",
     "iopub.status.busy": "2023-04-18T04:35:23.326832Z",
     "iopub.status.idle": "2023-04-18T04:35:23.333340Z",
     "shell.execute_reply": "2023-04-18T04:35:23.332375Z"
    },
    "executionInfo": {
     "elapsed": 621,
     "status": "ok",
     "timestamp": 1660715056409,
     "user": {
      "displayName": "Dileep Kasimalla",
      "userId": "10476111366108519388"
     },
     "user_tz": -330
    },
    "id": "9b2ba33c",
    "papermill": {
     "duration": 0.029366,
     "end_time": "2023-04-18T04:35:23.335473",
     "exception": false,
     "start_time": "2023-04-18T04:35:23.306107",
     "status": "completed"
    },
    "tags": []
   },
   "outputs": [],
   "source": [
    "Numerical_Attributes=['X..Vmail.Messages','Total.Day.Minutes', 'Total.Day.Calls', 'Total.Day.Charge','Total.Eve.Minutes', 'Total.Eve.Calls', 'Total.Eve.Charge','Total.Night.Minutes', 'Total.Night.Calls', 'Total.Night.Charge','Total.Intl.Minutes', 'Total.Intl.Calls', 'Total.Intl.Charge','X..customer.Service.Calls']\n",
    "Categorical_Attributes=['International.Plan', 'Voice.Mail.Plan', 'Churn', 'trainrows']"
   ]
  },
  {
   "cell_type": "code",
   "execution_count": 10,
   "id": "86d0dccf",
   "metadata": {
    "execution": {
     "iopub.execute_input": "2023-04-18T04:35:23.376776Z",
     "iopub.status.busy": "2023-04-18T04:35:23.376109Z",
     "iopub.status.idle": "2023-04-18T04:35:23.387262Z",
     "shell.execute_reply": "2023-04-18T04:35:23.385768Z"
    },
    "executionInfo": {
     "elapsed": 621,
     "status": "ok",
     "timestamp": 1660715058776,
     "user": {
      "displayName": "Dileep Kasimalla",
      "userId": "10476111366108519388"
     },
     "user_tz": -330
    },
    "id": "621818e2",
    "outputId": "84052917-020e-4461-a681-462ad5507cf4",
    "papermill": {
     "duration": 0.034593,
     "end_time": "2023-04-18T04:35:23.389778",
     "exception": false,
     "start_time": "2023-04-18T04:35:23.355185",
     "status": "completed"
    },
    "scrolled": true,
    "tags": []
   },
   "outputs": [
    {
     "name": "stdout",
     "output_type": "stream",
     "text": [
      "International.Plan\n",
      "no     4527\n",
      "yes     473\n",
      "Name: International.Plan, dtype: int64 \n",
      "\n",
      "Voice.Mail.Plan\n",
      "no     3677\n",
      "yes    1323\n",
      "Name: Voice.Mail.Plan, dtype: int64 \n",
      "\n",
      "Churn\n",
      "False.    4293\n",
      "True.      707\n",
      "Name: Churn, dtype: int64 \n",
      "\n",
      "trainrows\n",
      "Yes    3500\n",
      "No     1500\n",
      "Name: trainrows, dtype: int64 \n",
      "\n"
     ]
    }
   ],
   "source": [
    "for attributes in Categorical_Attributes:\n",
    "    print(attributes)\n",
    "    print(data[attributes].value_counts(), '\\n')"
   ]
  },
  {
   "cell_type": "markdown",
   "id": "b9f9226b",
   "metadata": {
    "id": "04bd7785",
    "papermill": {
     "duration": 0.019688,
     "end_time": "2023-04-18T04:35:23.429621",
     "exception": false,
     "start_time": "2023-04-18T04:35:23.409933",
     "status": "completed"
    },
    "tags": []
   },
   "source": [
    "## c. Check and handle missing values if any\n"
   ]
  },
  {
   "cell_type": "code",
   "execution_count": 11,
   "id": "7c7fc0ba",
   "metadata": {
    "execution": {
     "iopub.execute_input": "2023-04-18T04:35:23.471392Z",
     "iopub.status.busy": "2023-04-18T04:35:23.470552Z",
     "iopub.status.idle": "2023-04-18T04:35:23.481700Z",
     "shell.execute_reply": "2023-04-18T04:35:23.480472Z"
    },
    "executionInfo": {
     "elapsed": 400,
     "status": "ok",
     "timestamp": 1660715061938,
     "user": {
      "displayName": "Dileep Kasimalla",
      "userId": "10476111366108519388"
     },
     "user_tz": -330
    },
    "id": "a0ddbb86",
    "outputId": "d300d1b6-5383-4db5-a0e1-e162633b3ff7",
    "papermill": {
     "duration": 0.034682,
     "end_time": "2023-04-18T04:35:23.484194",
     "exception": false,
     "start_time": "2023-04-18T04:35:23.449512",
     "status": "completed"
    },
    "tags": []
   },
   "outputs": [
    {
     "data": {
      "text/plain": [
       "International.Plan           0\n",
       "Voice.Mail.Plan              0\n",
       "X..Vmail.Messages            0\n",
       "Total.Day.Minutes            0\n",
       "Total.Day.Calls              0\n",
       "Total.Day.Charge             0\n",
       "Total.Eve.Minutes            0\n",
       "Total.Eve.Calls              0\n",
       "Total.Eve.Charge             0\n",
       "Total.Night.Minutes          0\n",
       "Total.Night.Calls            0\n",
       "Total.Night.Charge           0\n",
       "Total.Intl.Minutes           0\n",
       "Total.Intl.Calls             0\n",
       "Total.Intl.Charge            0\n",
       "X..customer.Service.Calls    0\n",
       "Churn                        0\n",
       "trainrows                    0\n",
       "dtype: int64"
      ]
     },
     "execution_count": 11,
     "metadata": {},
     "output_type": "execute_result"
    }
   ],
   "source": [
    "data.isnull().sum()"
   ]
  },
  {
   "cell_type": "markdown",
   "id": "1c0de738",
   "metadata": {
    "id": "611a3ed8",
    "papermill": {
     "duration": 0.019429,
     "end_time": "2023-04-18T04:35:23.523728",
     "exception": false,
     "start_time": "2023-04-18T04:35:23.504299",
     "status": "completed"
    },
    "tags": []
   },
   "source": [
    "## d. Perform type-conversion for required columns\n"
   ]
  },
  {
   "cell_type": "code",
   "execution_count": 12,
   "id": "5bc05e32",
   "metadata": {
    "execution": {
     "iopub.execute_input": "2023-04-18T04:35:23.564688Z",
     "iopub.status.busy": "2023-04-18T04:35:23.564252Z",
     "iopub.status.idle": "2023-04-18T04:35:23.572172Z",
     "shell.execute_reply": "2023-04-18T04:35:23.571013Z"
    },
    "executionInfo": {
     "elapsed": 393,
     "status": "ok",
     "timestamp": 1660715281189,
     "user": {
      "displayName": "Dileep Kasimalla",
      "userId": "10476111366108519388"
     },
     "user_tz": -330
    },
    "id": "0570eb94",
    "outputId": "3c27cb33-3cc7-43f8-b334-5771e88e30e2",
    "papermill": {
     "duration": 0.031388,
     "end_time": "2023-04-18T04:35:23.574762",
     "exception": false,
     "start_time": "2023-04-18T04:35:23.543374",
     "status": "completed"
    },
    "tags": []
   },
   "outputs": [
    {
     "data": {
      "text/plain": [
       "International.Plan            object\n",
       "Voice.Mail.Plan               object\n",
       "X..Vmail.Messages              int64\n",
       "Total.Day.Minutes            float64\n",
       "Total.Day.Calls                int64\n",
       "Total.Day.Charge             float64\n",
       "Total.Eve.Minutes            float64\n",
       "Total.Eve.Calls                int64\n",
       "Total.Eve.Charge             float64\n",
       "Total.Night.Minutes          float64\n",
       "Total.Night.Calls              int64\n",
       "Total.Night.Charge           float64\n",
       "Total.Intl.Minutes           float64\n",
       "Total.Intl.Calls               int64\n",
       "Total.Intl.Charge            float64\n",
       "X..customer.Service.Calls      int64\n",
       "Churn                         object\n",
       "trainrows                     object\n",
       "dtype: object"
      ]
     },
     "execution_count": 12,
     "metadata": {},
     "output_type": "execute_result"
    }
   ],
   "source": [
    "data.dtypes"
   ]
  },
  {
   "cell_type": "code",
   "execution_count": 13,
   "id": "43cc1a85",
   "metadata": {
    "execution": {
     "iopub.execute_input": "2023-04-18T04:35:23.616159Z",
     "iopub.status.busy": "2023-04-18T04:35:23.615753Z",
     "iopub.status.idle": "2023-04-18T04:35:23.638575Z",
     "shell.execute_reply": "2023-04-18T04:35:23.637221Z"
    },
    "executionInfo": {
     "elapsed": 388,
     "status": "ok",
     "timestamp": 1660715285752,
     "user": {
      "displayName": "Dileep Kasimalla",
      "userId": "10476111366108519388"
     },
     "user_tz": -330
    },
    "id": "5bb5949d",
    "papermill": {
     "duration": 0.046602,
     "end_time": "2023-04-18T04:35:23.641305",
     "exception": false,
     "start_time": "2023-04-18T04:35:23.594703",
     "status": "completed"
    },
    "tags": []
   },
   "outputs": [],
   "source": [
    "data[Categorical_Attributes] = data[Categorical_Attributes].apply(lambda col: col.astype('category'))\n",
    "data[Numerical_Attributes] = data[Numerical_Attributes].apply(lambda col: col.astype('float64'))"
   ]
  },
  {
   "cell_type": "code",
   "execution_count": 14,
   "id": "8a260270",
   "metadata": {
    "execution": {
     "iopub.execute_input": "2023-04-18T04:35:23.682687Z",
     "iopub.status.busy": "2023-04-18T04:35:23.682022Z",
     "iopub.status.idle": "2023-04-18T04:35:23.691132Z",
     "shell.execute_reply": "2023-04-18T04:35:23.689787Z"
    },
    "executionInfo": {
     "elapsed": 365,
     "status": "ok",
     "timestamp": 1660715289100,
     "user": {
      "displayName": "Dileep Kasimalla",
      "userId": "10476111366108519388"
     },
     "user_tz": -330
    },
    "id": "d40f120f",
    "outputId": "822a1aa1-bc32-4f49-c17a-3a6fb1c16865",
    "papermill": {
     "duration": 0.03272,
     "end_time": "2023-04-18T04:35:23.693283",
     "exception": false,
     "start_time": "2023-04-18T04:35:23.660563",
     "status": "completed"
    },
    "scrolled": true,
    "tags": []
   },
   "outputs": [
    {
     "data": {
      "text/plain": [
       "International.Plan           category\n",
       "Voice.Mail.Plan              category\n",
       "X..Vmail.Messages             float64\n",
       "Total.Day.Minutes             float64\n",
       "Total.Day.Calls               float64\n",
       "Total.Day.Charge              float64\n",
       "Total.Eve.Minutes             float64\n",
       "Total.Eve.Calls               float64\n",
       "Total.Eve.Charge              float64\n",
       "Total.Night.Minutes           float64\n",
       "Total.Night.Calls             float64\n",
       "Total.Night.Charge            float64\n",
       "Total.Intl.Minutes            float64\n",
       "Total.Intl.Calls              float64\n",
       "Total.Intl.Charge             float64\n",
       "X..customer.Service.Calls     float64\n",
       "Churn                        category\n",
       "trainrows                    category\n",
       "dtype: object"
      ]
     },
     "execution_count": 14,
     "metadata": {},
     "output_type": "execute_result"
    }
   ],
   "source": [
    "data.dtypes"
   ]
  },
  {
   "cell_type": "code",
   "execution_count": 15,
   "id": "bac0e1bf",
   "metadata": {
    "execution": {
     "iopub.execute_input": "2023-04-18T04:35:23.735569Z",
     "iopub.status.busy": "2023-04-18T04:35:23.734809Z",
     "iopub.status.idle": "2023-04-18T04:35:23.752072Z",
     "shell.execute_reply": "2023-04-18T04:35:23.750825Z"
    },
    "executionInfo": {
     "elapsed": 486,
     "status": "ok",
     "timestamp": 1660717423434,
     "user": {
      "displayName": "Dileep Kasimalla",
      "userId": "10476111366108519388"
     },
     "user_tz": -330
    },
    "id": "48492605",
    "papermill": {
     "duration": 0.041422,
     "end_time": "2023-04-18T04:35:23.754712",
     "exception": false,
     "start_time": "2023-04-18T04:35:23.713290",
     "status": "completed"
    },
    "tags": []
   },
   "outputs": [],
   "source": [
    "data.Churn.replace({\"True.\":1, \"False.\":0}, inplace = True)\n",
    "data.trainrows.replace({\"Yes\":1, \"No\":0}, inplace = True)"
   ]
  },
  {
   "cell_type": "code",
   "execution_count": 16,
   "id": "06332be7",
   "metadata": {
    "execution": {
     "iopub.execute_input": "2023-04-18T04:35:23.796984Z",
     "iopub.status.busy": "2023-04-18T04:35:23.796253Z",
     "iopub.status.idle": "2023-04-18T04:35:23.807089Z",
     "shell.execute_reply": "2023-04-18T04:35:23.806039Z"
    },
    "executionInfo": {
     "elapsed": 667,
     "status": "ok",
     "timestamp": 1660717426154,
     "user": {
      "displayName": "Dileep Kasimalla",
      "userId": "10476111366108519388"
     },
     "user_tz": -330
    },
    "id": "6afa8058",
    "papermill": {
     "duration": 0.035242,
     "end_time": "2023-04-18T04:35:23.809847",
     "exception": false,
     "start_time": "2023-04-18T04:35:23.774605",
     "status": "completed"
    },
    "tags": []
   },
   "outputs": [],
   "source": [
    "Final_data = pd.get_dummies(data,drop_first=True)\n",
    "# dummy_df.info()"
   ]
  },
  {
   "cell_type": "code",
   "execution_count": 17,
   "id": "e17d1643",
   "metadata": {
    "execution": {
     "iopub.execute_input": "2023-04-18T04:35:23.852867Z",
     "iopub.status.busy": "2023-04-18T04:35:23.851963Z",
     "iopub.status.idle": "2023-04-18T04:35:23.877017Z",
     "shell.execute_reply": "2023-04-18T04:35:23.875659Z"
    },
    "executionInfo": {
     "elapsed": 432,
     "status": "ok",
     "timestamp": 1660717430208,
     "user": {
      "displayName": "Dileep Kasimalla",
      "userId": "10476111366108519388"
     },
     "user_tz": -330
    },
    "id": "c308a2ae",
    "outputId": "9063a490-3958-41e2-d76e-22bad53a11cc",
    "papermill": {
     "duration": 0.049607,
     "end_time": "2023-04-18T04:35:23.879767",
     "exception": false,
     "start_time": "2023-04-18T04:35:23.830160",
     "status": "completed"
    },
    "tags": []
   },
   "outputs": [
    {
     "data": {
      "text/html": [
       "<div>\n",
       "<style scoped>\n",
       "    .dataframe tbody tr th:only-of-type {\n",
       "        vertical-align: middle;\n",
       "    }\n",
       "\n",
       "    .dataframe tbody tr th {\n",
       "        vertical-align: top;\n",
       "    }\n",
       "\n",
       "    .dataframe thead th {\n",
       "        text-align: right;\n",
       "    }\n",
       "</style>\n",
       "<table border=\"1\" class=\"dataframe\">\n",
       "  <thead>\n",
       "    <tr style=\"text-align: right;\">\n",
       "      <th></th>\n",
       "      <th>X..Vmail.Messages</th>\n",
       "      <th>Total.Day.Minutes</th>\n",
       "      <th>Total.Day.Calls</th>\n",
       "      <th>Total.Day.Charge</th>\n",
       "      <th>Total.Eve.Minutes</th>\n",
       "      <th>Total.Eve.Calls</th>\n",
       "      <th>Total.Eve.Charge</th>\n",
       "      <th>Total.Night.Minutes</th>\n",
       "      <th>Total.Night.Calls</th>\n",
       "      <th>Total.Night.Charge</th>\n",
       "      <th>Total.Intl.Minutes</th>\n",
       "      <th>Total.Intl.Calls</th>\n",
       "      <th>Total.Intl.Charge</th>\n",
       "      <th>X..customer.Service.Calls</th>\n",
       "      <th>Churn</th>\n",
       "      <th>trainrows</th>\n",
       "      <th>International.Plan_yes</th>\n",
       "      <th>Voice.Mail.Plan_yes</th>\n",
       "    </tr>\n",
       "  </thead>\n",
       "  <tbody>\n",
       "    <tr>\n",
       "      <th>0</th>\n",
       "      <td>25.0</td>\n",
       "      <td>265.1</td>\n",
       "      <td>110.0</td>\n",
       "      <td>45.07</td>\n",
       "      <td>197.4</td>\n",
       "      <td>99.0</td>\n",
       "      <td>16.78</td>\n",
       "      <td>244.7</td>\n",
       "      <td>91.0</td>\n",
       "      <td>11.01</td>\n",
       "      <td>10.0</td>\n",
       "      <td>3.0</td>\n",
       "      <td>2.70</td>\n",
       "      <td>1.0</td>\n",
       "      <td>0</td>\n",
       "      <td>0</td>\n",
       "      <td>0</td>\n",
       "      <td>1</td>\n",
       "    </tr>\n",
       "    <tr>\n",
       "      <th>1</th>\n",
       "      <td>26.0</td>\n",
       "      <td>161.6</td>\n",
       "      <td>123.0</td>\n",
       "      <td>27.47</td>\n",
       "      <td>195.5</td>\n",
       "      <td>103.0</td>\n",
       "      <td>16.62</td>\n",
       "      <td>254.4</td>\n",
       "      <td>103.0</td>\n",
       "      <td>11.45</td>\n",
       "      <td>13.7</td>\n",
       "      <td>3.0</td>\n",
       "      <td>3.70</td>\n",
       "      <td>1.0</td>\n",
       "      <td>0</td>\n",
       "      <td>1</td>\n",
       "      <td>0</td>\n",
       "      <td>1</td>\n",
       "    </tr>\n",
       "    <tr>\n",
       "      <th>2</th>\n",
       "      <td>0.0</td>\n",
       "      <td>243.4</td>\n",
       "      <td>114.0</td>\n",
       "      <td>41.38</td>\n",
       "      <td>121.2</td>\n",
       "      <td>110.0</td>\n",
       "      <td>10.30</td>\n",
       "      <td>162.6</td>\n",
       "      <td>104.0</td>\n",
       "      <td>7.32</td>\n",
       "      <td>12.2</td>\n",
       "      <td>5.0</td>\n",
       "      <td>3.29</td>\n",
       "      <td>0.0</td>\n",
       "      <td>0</td>\n",
       "      <td>1</td>\n",
       "      <td>0</td>\n",
       "      <td>0</td>\n",
       "    </tr>\n",
       "    <tr>\n",
       "      <th>3</th>\n",
       "      <td>0.0</td>\n",
       "      <td>299.4</td>\n",
       "      <td>71.0</td>\n",
       "      <td>50.90</td>\n",
       "      <td>61.9</td>\n",
       "      <td>88.0</td>\n",
       "      <td>5.26</td>\n",
       "      <td>196.9</td>\n",
       "      <td>89.0</td>\n",
       "      <td>8.86</td>\n",
       "      <td>6.6</td>\n",
       "      <td>7.0</td>\n",
       "      <td>1.78</td>\n",
       "      <td>2.0</td>\n",
       "      <td>0</td>\n",
       "      <td>1</td>\n",
       "      <td>1</td>\n",
       "      <td>0</td>\n",
       "    </tr>\n",
       "    <tr>\n",
       "      <th>4</th>\n",
       "      <td>0.0</td>\n",
       "      <td>166.7</td>\n",
       "      <td>113.0</td>\n",
       "      <td>28.34</td>\n",
       "      <td>148.3</td>\n",
       "      <td>122.0</td>\n",
       "      <td>12.61</td>\n",
       "      <td>186.9</td>\n",
       "      <td>121.0</td>\n",
       "      <td>8.41</td>\n",
       "      <td>10.1</td>\n",
       "      <td>3.0</td>\n",
       "      <td>2.73</td>\n",
       "      <td>3.0</td>\n",
       "      <td>0</td>\n",
       "      <td>1</td>\n",
       "      <td>1</td>\n",
       "      <td>0</td>\n",
       "    </tr>\n",
       "  </tbody>\n",
       "</table>\n",
       "</div>"
      ],
      "text/plain": [
       "   X..Vmail.Messages  Total.Day.Minutes  Total.Day.Calls  Total.Day.Charge  \\\n",
       "0               25.0              265.1            110.0             45.07   \n",
       "1               26.0              161.6            123.0             27.47   \n",
       "2                0.0              243.4            114.0             41.38   \n",
       "3                0.0              299.4             71.0             50.90   \n",
       "4                0.0              166.7            113.0             28.34   \n",
       "\n",
       "   Total.Eve.Minutes  Total.Eve.Calls  Total.Eve.Charge  Total.Night.Minutes  \\\n",
       "0              197.4             99.0             16.78                244.7   \n",
       "1              195.5            103.0             16.62                254.4   \n",
       "2              121.2            110.0             10.30                162.6   \n",
       "3               61.9             88.0              5.26                196.9   \n",
       "4              148.3            122.0             12.61                186.9   \n",
       "\n",
       "   Total.Night.Calls  Total.Night.Charge  Total.Intl.Minutes  \\\n",
       "0               91.0               11.01                10.0   \n",
       "1              103.0               11.45                13.7   \n",
       "2              104.0                7.32                12.2   \n",
       "3               89.0                8.86                 6.6   \n",
       "4              121.0                8.41                10.1   \n",
       "\n",
       "   Total.Intl.Calls  Total.Intl.Charge  X..customer.Service.Calls  Churn  \\\n",
       "0               3.0               2.70                        1.0      0   \n",
       "1               3.0               3.70                        1.0      0   \n",
       "2               5.0               3.29                        0.0      0   \n",
       "3               7.0               1.78                        2.0      0   \n",
       "4               3.0               2.73                        3.0      0   \n",
       "\n",
       "   trainrows  International.Plan_yes  Voice.Mail.Plan_yes  \n",
       "0          0                       0                    1  \n",
       "1          1                       0                    1  \n",
       "2          1                       0                    0  \n",
       "3          1                       1                    0  \n",
       "4          1                       1                    0  "
      ]
     },
     "execution_count": 17,
     "metadata": {},
     "output_type": "execute_result"
    }
   ],
   "source": [
    "Final_data.head()"
   ]
  },
  {
   "cell_type": "markdown",
   "id": "2905a950",
   "metadata": {
    "id": "047834cc",
    "papermill": {
     "duration": 0.02073,
     "end_time": "2023-04-18T04:35:23.922126",
     "exception": false,
     "start_time": "2023-04-18T04:35:23.901396",
     "status": "completed"
    },
    "tags": []
   },
   "source": [
    "# 2. Split the data into train and validation sets based on the column ‘trainrows’.Rows with ‘yes’ belong to train data, those with ‘no’ belong to validation data.\n"
   ]
  },
  {
   "cell_type": "code",
   "execution_count": 18,
   "id": "dc33ee49",
   "metadata": {
    "execution": {
     "iopub.execute_input": "2023-04-18T04:35:23.965587Z",
     "iopub.status.busy": "2023-04-18T04:35:23.965171Z",
     "iopub.status.idle": "2023-04-18T04:35:23.973933Z",
     "shell.execute_reply": "2023-04-18T04:35:23.972934Z"
    },
    "executionInfo": {
     "elapsed": 392,
     "status": "ok",
     "timestamp": 1660717434632,
     "user": {
      "displayName": "Dileep Kasimalla",
      "userId": "10476111366108519388"
     },
     "user_tz": -330
    },
    "id": "d1dfa36b",
    "papermill": {
     "duration": 0.03353,
     "end_time": "2023-04-18T04:35:23.976650",
     "exception": false,
     "start_time": "2023-04-18T04:35:23.943120",
     "status": "completed"
    },
    "tags": []
   },
   "outputs": [],
   "source": [
    "Train_data=Final_data[Final_data['trainrows']== 1]\n",
    "Test_data=Final_data[Final_data['trainrows']== 0]"
   ]
  },
  {
   "cell_type": "code",
   "execution_count": 19,
   "id": "aae78aa9",
   "metadata": {
    "execution": {
     "iopub.execute_input": "2023-04-18T04:35:24.021184Z",
     "iopub.status.busy": "2023-04-18T04:35:24.020365Z",
     "iopub.status.idle": "2023-04-18T04:35:24.046248Z",
     "shell.execute_reply": "2023-04-18T04:35:24.044958Z"
    },
    "id": "0e1ff35b",
    "outputId": "5bb909f3-52c0-4d5b-c4e0-c33206d17040",
    "papermill": {
     "duration": 0.051636,
     "end_time": "2023-04-18T04:35:24.048819",
     "exception": false,
     "start_time": "2023-04-18T04:35:23.997183",
     "status": "completed"
    },
    "tags": []
   },
   "outputs": [
    {
     "data": {
      "text/html": [
       "<div>\n",
       "<style scoped>\n",
       "    .dataframe tbody tr th:only-of-type {\n",
       "        vertical-align: middle;\n",
       "    }\n",
       "\n",
       "    .dataframe tbody tr th {\n",
       "        vertical-align: top;\n",
       "    }\n",
       "\n",
       "    .dataframe thead th {\n",
       "        text-align: right;\n",
       "    }\n",
       "</style>\n",
       "<table border=\"1\" class=\"dataframe\">\n",
       "  <thead>\n",
       "    <tr style=\"text-align: right;\">\n",
       "      <th></th>\n",
       "      <th>X..Vmail.Messages</th>\n",
       "      <th>Total.Day.Minutes</th>\n",
       "      <th>Total.Day.Calls</th>\n",
       "      <th>Total.Day.Charge</th>\n",
       "      <th>Total.Eve.Minutes</th>\n",
       "      <th>Total.Eve.Calls</th>\n",
       "      <th>Total.Eve.Charge</th>\n",
       "      <th>Total.Night.Minutes</th>\n",
       "      <th>Total.Night.Calls</th>\n",
       "      <th>Total.Night.Charge</th>\n",
       "      <th>Total.Intl.Minutes</th>\n",
       "      <th>Total.Intl.Calls</th>\n",
       "      <th>Total.Intl.Charge</th>\n",
       "      <th>X..customer.Service.Calls</th>\n",
       "      <th>Churn</th>\n",
       "      <th>trainrows</th>\n",
       "      <th>International.Plan_yes</th>\n",
       "      <th>Voice.Mail.Plan_yes</th>\n",
       "    </tr>\n",
       "  </thead>\n",
       "  <tbody>\n",
       "    <tr>\n",
       "      <th>1</th>\n",
       "      <td>26.0</td>\n",
       "      <td>161.6</td>\n",
       "      <td>123.0</td>\n",
       "      <td>27.47</td>\n",
       "      <td>195.5</td>\n",
       "      <td>103.0</td>\n",
       "      <td>16.62</td>\n",
       "      <td>254.4</td>\n",
       "      <td>103.0</td>\n",
       "      <td>11.45</td>\n",
       "      <td>13.7</td>\n",
       "      <td>3.0</td>\n",
       "      <td>3.70</td>\n",
       "      <td>1.0</td>\n",
       "      <td>0</td>\n",
       "      <td>1</td>\n",
       "      <td>0</td>\n",
       "      <td>1</td>\n",
       "    </tr>\n",
       "    <tr>\n",
       "      <th>2</th>\n",
       "      <td>0.0</td>\n",
       "      <td>243.4</td>\n",
       "      <td>114.0</td>\n",
       "      <td>41.38</td>\n",
       "      <td>121.2</td>\n",
       "      <td>110.0</td>\n",
       "      <td>10.30</td>\n",
       "      <td>162.6</td>\n",
       "      <td>104.0</td>\n",
       "      <td>7.32</td>\n",
       "      <td>12.2</td>\n",
       "      <td>5.0</td>\n",
       "      <td>3.29</td>\n",
       "      <td>0.0</td>\n",
       "      <td>0</td>\n",
       "      <td>1</td>\n",
       "      <td>0</td>\n",
       "      <td>0</td>\n",
       "    </tr>\n",
       "    <tr>\n",
       "      <th>3</th>\n",
       "      <td>0.0</td>\n",
       "      <td>299.4</td>\n",
       "      <td>71.0</td>\n",
       "      <td>50.90</td>\n",
       "      <td>61.9</td>\n",
       "      <td>88.0</td>\n",
       "      <td>5.26</td>\n",
       "      <td>196.9</td>\n",
       "      <td>89.0</td>\n",
       "      <td>8.86</td>\n",
       "      <td>6.6</td>\n",
       "      <td>7.0</td>\n",
       "      <td>1.78</td>\n",
       "      <td>2.0</td>\n",
       "      <td>0</td>\n",
       "      <td>1</td>\n",
       "      <td>1</td>\n",
       "      <td>0</td>\n",
       "    </tr>\n",
       "    <tr>\n",
       "      <th>4</th>\n",
       "      <td>0.0</td>\n",
       "      <td>166.7</td>\n",
       "      <td>113.0</td>\n",
       "      <td>28.34</td>\n",
       "      <td>148.3</td>\n",
       "      <td>122.0</td>\n",
       "      <td>12.61</td>\n",
       "      <td>186.9</td>\n",
       "      <td>121.0</td>\n",
       "      <td>8.41</td>\n",
       "      <td>10.1</td>\n",
       "      <td>3.0</td>\n",
       "      <td>2.73</td>\n",
       "      <td>3.0</td>\n",
       "      <td>0</td>\n",
       "      <td>1</td>\n",
       "      <td>1</td>\n",
       "      <td>0</td>\n",
       "    </tr>\n",
       "    <tr>\n",
       "      <th>5</th>\n",
       "      <td>0.0</td>\n",
       "      <td>223.4</td>\n",
       "      <td>98.0</td>\n",
       "      <td>37.98</td>\n",
       "      <td>220.6</td>\n",
       "      <td>101.0</td>\n",
       "      <td>18.75</td>\n",
       "      <td>203.9</td>\n",
       "      <td>118.0</td>\n",
       "      <td>9.18</td>\n",
       "      <td>6.3</td>\n",
       "      <td>6.0</td>\n",
       "      <td>1.70</td>\n",
       "      <td>0.0</td>\n",
       "      <td>0</td>\n",
       "      <td>1</td>\n",
       "      <td>1</td>\n",
       "      <td>0</td>\n",
       "    </tr>\n",
       "  </tbody>\n",
       "</table>\n",
       "</div>"
      ],
      "text/plain": [
       "   X..Vmail.Messages  Total.Day.Minutes  Total.Day.Calls  Total.Day.Charge  \\\n",
       "1               26.0              161.6            123.0             27.47   \n",
       "2                0.0              243.4            114.0             41.38   \n",
       "3                0.0              299.4             71.0             50.90   \n",
       "4                0.0              166.7            113.0             28.34   \n",
       "5                0.0              223.4             98.0             37.98   \n",
       "\n",
       "   Total.Eve.Minutes  Total.Eve.Calls  Total.Eve.Charge  Total.Night.Minutes  \\\n",
       "1              195.5            103.0             16.62                254.4   \n",
       "2              121.2            110.0             10.30                162.6   \n",
       "3               61.9             88.0              5.26                196.9   \n",
       "4              148.3            122.0             12.61                186.9   \n",
       "5              220.6            101.0             18.75                203.9   \n",
       "\n",
       "   Total.Night.Calls  Total.Night.Charge  Total.Intl.Minutes  \\\n",
       "1              103.0               11.45                13.7   \n",
       "2              104.0                7.32                12.2   \n",
       "3               89.0                8.86                 6.6   \n",
       "4              121.0                8.41                10.1   \n",
       "5              118.0                9.18                 6.3   \n",
       "\n",
       "   Total.Intl.Calls  Total.Intl.Charge  X..customer.Service.Calls  Churn  \\\n",
       "1               3.0               3.70                        1.0      0   \n",
       "2               5.0               3.29                        0.0      0   \n",
       "3               7.0               1.78                        2.0      0   \n",
       "4               3.0               2.73                        3.0      0   \n",
       "5               6.0               1.70                        0.0      0   \n",
       "\n",
       "   trainrows  International.Plan_yes  Voice.Mail.Plan_yes  \n",
       "1          1                       0                    1  \n",
       "2          1                       0                    0  \n",
       "3          1                       1                    0  \n",
       "4          1                       1                    0  \n",
       "5          1                       1                    0  "
      ]
     },
     "execution_count": 19,
     "metadata": {},
     "output_type": "execute_result"
    }
   ],
   "source": [
    "Train_data.head()"
   ]
  },
  {
   "cell_type": "code",
   "execution_count": 20,
   "id": "5d27d46a",
   "metadata": {
    "execution": {
     "iopub.execute_input": "2023-04-18T04:35:24.092639Z",
     "iopub.status.busy": "2023-04-18T04:35:24.092234Z",
     "iopub.status.idle": "2023-04-18T04:35:24.118544Z",
     "shell.execute_reply": "2023-04-18T04:35:24.117135Z"
    },
    "id": "56acdadf",
    "outputId": "c5d31cda-9852-41d1-ce96-d399cdef8bd3",
    "papermill": {
     "duration": 0.051228,
     "end_time": "2023-04-18T04:35:24.121017",
     "exception": false,
     "start_time": "2023-04-18T04:35:24.069789",
     "status": "completed"
    },
    "tags": []
   },
   "outputs": [
    {
     "data": {
      "text/html": [
       "<div>\n",
       "<style scoped>\n",
       "    .dataframe tbody tr th:only-of-type {\n",
       "        vertical-align: middle;\n",
       "    }\n",
       "\n",
       "    .dataframe tbody tr th {\n",
       "        vertical-align: top;\n",
       "    }\n",
       "\n",
       "    .dataframe thead th {\n",
       "        text-align: right;\n",
       "    }\n",
       "</style>\n",
       "<table border=\"1\" class=\"dataframe\">\n",
       "  <thead>\n",
       "    <tr style=\"text-align: right;\">\n",
       "      <th></th>\n",
       "      <th>X..Vmail.Messages</th>\n",
       "      <th>Total.Day.Minutes</th>\n",
       "      <th>Total.Day.Calls</th>\n",
       "      <th>Total.Day.Charge</th>\n",
       "      <th>Total.Eve.Minutes</th>\n",
       "      <th>Total.Eve.Calls</th>\n",
       "      <th>Total.Eve.Charge</th>\n",
       "      <th>Total.Night.Minutes</th>\n",
       "      <th>Total.Night.Calls</th>\n",
       "      <th>Total.Night.Charge</th>\n",
       "      <th>Total.Intl.Minutes</th>\n",
       "      <th>Total.Intl.Calls</th>\n",
       "      <th>Total.Intl.Charge</th>\n",
       "      <th>X..customer.Service.Calls</th>\n",
       "      <th>Churn</th>\n",
       "      <th>trainrows</th>\n",
       "      <th>International.Plan_yes</th>\n",
       "      <th>Voice.Mail.Plan_yes</th>\n",
       "    </tr>\n",
       "  </thead>\n",
       "  <tbody>\n",
       "    <tr>\n",
       "      <th>0</th>\n",
       "      <td>25.0</td>\n",
       "      <td>265.1</td>\n",
       "      <td>110.0</td>\n",
       "      <td>45.07</td>\n",
       "      <td>197.4</td>\n",
       "      <td>99.0</td>\n",
       "      <td>16.78</td>\n",
       "      <td>244.7</td>\n",
       "      <td>91.0</td>\n",
       "      <td>11.01</td>\n",
       "      <td>10.0</td>\n",
       "      <td>3.0</td>\n",
       "      <td>2.70</td>\n",
       "      <td>1.0</td>\n",
       "      <td>0</td>\n",
       "      <td>0</td>\n",
       "      <td>0</td>\n",
       "      <td>1</td>\n",
       "    </tr>\n",
       "    <tr>\n",
       "      <th>6</th>\n",
       "      <td>24.0</td>\n",
       "      <td>218.2</td>\n",
       "      <td>88.0</td>\n",
       "      <td>37.09</td>\n",
       "      <td>348.5</td>\n",
       "      <td>108.0</td>\n",
       "      <td>29.62</td>\n",
       "      <td>212.6</td>\n",
       "      <td>118.0</td>\n",
       "      <td>9.57</td>\n",
       "      <td>7.5</td>\n",
       "      <td>7.0</td>\n",
       "      <td>2.03</td>\n",
       "      <td>3.0</td>\n",
       "      <td>0</td>\n",
       "      <td>0</td>\n",
       "      <td>0</td>\n",
       "      <td>1</td>\n",
       "    </tr>\n",
       "    <tr>\n",
       "      <th>18</th>\n",
       "      <td>33.0</td>\n",
       "      <td>189.7</td>\n",
       "      <td>66.0</td>\n",
       "      <td>32.25</td>\n",
       "      <td>212.8</td>\n",
       "      <td>65.0</td>\n",
       "      <td>18.09</td>\n",
       "      <td>165.7</td>\n",
       "      <td>108.0</td>\n",
       "      <td>7.46</td>\n",
       "      <td>10.0</td>\n",
       "      <td>5.0</td>\n",
       "      <td>2.70</td>\n",
       "      <td>1.0</td>\n",
       "      <td>0</td>\n",
       "      <td>0</td>\n",
       "      <td>0</td>\n",
       "      <td>1</td>\n",
       "    </tr>\n",
       "    <tr>\n",
       "      <th>23</th>\n",
       "      <td>0.0</td>\n",
       "      <td>110.4</td>\n",
       "      <td>103.0</td>\n",
       "      <td>18.77</td>\n",
       "      <td>137.3</td>\n",
       "      <td>102.0</td>\n",
       "      <td>11.67</td>\n",
       "      <td>189.6</td>\n",
       "      <td>105.0</td>\n",
       "      <td>8.53</td>\n",
       "      <td>7.7</td>\n",
       "      <td>6.0</td>\n",
       "      <td>2.08</td>\n",
       "      <td>2.0</td>\n",
       "      <td>0</td>\n",
       "      <td>0</td>\n",
       "      <td>0</td>\n",
       "      <td>0</td>\n",
       "    </tr>\n",
       "    <tr>\n",
       "      <th>27</th>\n",
       "      <td>0.0</td>\n",
       "      <td>134.3</td>\n",
       "      <td>73.0</td>\n",
       "      <td>22.83</td>\n",
       "      <td>155.5</td>\n",
       "      <td>100.0</td>\n",
       "      <td>13.22</td>\n",
       "      <td>102.1</td>\n",
       "      <td>68.0</td>\n",
       "      <td>4.59</td>\n",
       "      <td>14.7</td>\n",
       "      <td>4.0</td>\n",
       "      <td>3.97</td>\n",
       "      <td>3.0</td>\n",
       "      <td>0</td>\n",
       "      <td>0</td>\n",
       "      <td>0</td>\n",
       "      <td>0</td>\n",
       "    </tr>\n",
       "  </tbody>\n",
       "</table>\n",
       "</div>"
      ],
      "text/plain": [
       "    X..Vmail.Messages  Total.Day.Minutes  Total.Day.Calls  Total.Day.Charge  \\\n",
       "0                25.0              265.1            110.0             45.07   \n",
       "6                24.0              218.2             88.0             37.09   \n",
       "18               33.0              189.7             66.0             32.25   \n",
       "23                0.0              110.4            103.0             18.77   \n",
       "27                0.0              134.3             73.0             22.83   \n",
       "\n",
       "    Total.Eve.Minutes  Total.Eve.Calls  Total.Eve.Charge  Total.Night.Minutes  \\\n",
       "0               197.4             99.0             16.78                244.7   \n",
       "6               348.5            108.0             29.62                212.6   \n",
       "18              212.8             65.0             18.09                165.7   \n",
       "23              137.3            102.0             11.67                189.6   \n",
       "27              155.5            100.0             13.22                102.1   \n",
       "\n",
       "    Total.Night.Calls  Total.Night.Charge  Total.Intl.Minutes  \\\n",
       "0                91.0               11.01                10.0   \n",
       "6               118.0                9.57                 7.5   \n",
       "18              108.0                7.46                10.0   \n",
       "23              105.0                8.53                 7.7   \n",
       "27               68.0                4.59                14.7   \n",
       "\n",
       "    Total.Intl.Calls  Total.Intl.Charge  X..customer.Service.Calls  Churn  \\\n",
       "0                3.0               2.70                        1.0      0   \n",
       "6                7.0               2.03                        3.0      0   \n",
       "18               5.0               2.70                        1.0      0   \n",
       "23               6.0               2.08                        2.0      0   \n",
       "27               4.0               3.97                        3.0      0   \n",
       "\n",
       "    trainrows  International.Plan_yes  Voice.Mail.Plan_yes  \n",
       "0           0                       0                    1  \n",
       "6           0                       0                    1  \n",
       "18          0                       0                    1  \n",
       "23          0                       0                    0  \n",
       "27          0                       0                    0  "
      ]
     },
     "execution_count": 20,
     "metadata": {},
     "output_type": "execute_result"
    }
   ],
   "source": [
    "Test_data.head()"
   ]
  },
  {
   "cell_type": "code",
   "execution_count": 21,
   "id": "f94a35be",
   "metadata": {
    "execution": {
     "iopub.execute_input": "2023-04-18T04:35:24.166599Z",
     "iopub.status.busy": "2023-04-18T04:35:24.165803Z",
     "iopub.status.idle": "2023-04-18T04:35:24.176155Z",
     "shell.execute_reply": "2023-04-18T04:35:24.175165Z"
    },
    "id": "4b928055",
    "papermill": {
     "duration": 0.03585,
     "end_time": "2023-04-18T04:35:24.178618",
     "exception": false,
     "start_time": "2023-04-18T04:35:24.142768",
     "status": "completed"
    },
    "tags": []
   },
   "outputs": [],
   "source": [
    "x_train = Train_data.drop('Churn', axis=1).drop('trainrows',axis=1)#independent variables\n",
    "y_train = Train_data['Churn']#dependent variables\n",
    "\n",
    "x_test = Test_data.drop('Churn', axis=1).drop('trainrows',axis=1)#independent variables\n",
    "y_test = Test_data['Churn']#dependent variables"
   ]
  },
  {
   "cell_type": "code",
   "execution_count": 22,
   "id": "ae4ea661",
   "metadata": {
    "execution": {
     "iopub.execute_input": "2023-04-18T04:35:24.223259Z",
     "iopub.status.busy": "2023-04-18T04:35:24.222434Z",
     "iopub.status.idle": "2023-04-18T04:35:24.229518Z",
     "shell.execute_reply": "2023-04-18T04:35:24.228014Z"
    },
    "id": "ec5b8bd6",
    "outputId": "d14255b1-4955-4086-a947-507ab71e6361",
    "papermill": {
     "duration": 0.032458,
     "end_time": "2023-04-18T04:35:24.232208",
     "exception": false,
     "start_time": "2023-04-18T04:35:24.199750",
     "status": "completed"
    },
    "tags": []
   },
   "outputs": [
    {
     "name": "stdout",
     "output_type": "stream",
     "text": [
      "(3500, 16)\n",
      "(1500, 16)\n"
     ]
    }
   ],
   "source": [
    "print(x_train.shape)\n",
    "print(x_test.shape)"
   ]
  },
  {
   "cell_type": "code",
   "execution_count": 23,
   "id": "181a46fe",
   "metadata": {
    "execution": {
     "iopub.execute_input": "2023-04-18T04:35:24.276853Z",
     "iopub.status.busy": "2023-04-18T04:35:24.276401Z",
     "iopub.status.idle": "2023-04-18T04:35:24.283283Z",
     "shell.execute_reply": "2023-04-18T04:35:24.282076Z"
    },
    "id": "c76386fa",
    "papermill": {
     "duration": 0.032223,
     "end_time": "2023-04-18T04:35:24.285681",
     "exception": false,
     "start_time": "2023-04-18T04:35:24.253458",
     "status": "completed"
    },
    "tags": []
   },
   "outputs": [],
   "source": [
    "le = LabelEncoder()\n",
    "y_train = le.fit_transform(y_train)\n",
    "y_test = le.transform(y_test)"
   ]
  },
  {
   "cell_type": "code",
   "execution_count": 24,
   "id": "048c410a",
   "metadata": {
    "execution": {
     "iopub.execute_input": "2023-04-18T04:35:24.330685Z",
     "iopub.status.busy": "2023-04-18T04:35:24.330254Z",
     "iopub.status.idle": "2023-04-18T04:35:24.337619Z",
     "shell.execute_reply": "2023-04-18T04:35:24.336716Z"
    },
    "id": "00087eb3",
    "outputId": "b7f42d66-8ea9-496a-e75d-30add6da807c",
    "papermill": {
     "duration": 0.032799,
     "end_time": "2023-04-18T04:35:24.340089",
     "exception": false,
     "start_time": "2023-04-18T04:35:24.307290",
     "status": "completed"
    },
    "tags": []
   },
   "outputs": [
    {
     "data": {
      "text/plain": [
       "array([0, 0, 0, ..., 0, 0, 0])"
      ]
     },
     "execution_count": 24,
     "metadata": {},
     "output_type": "execute_result"
    }
   ],
   "source": [
    "y_train"
   ]
  },
  {
   "cell_type": "markdown",
   "id": "e9f223ec",
   "metadata": {
    "id": "8443d711",
    "papermill": {
     "duration": 0.021262,
     "end_time": "2023-04-18T04:35:24.383138",
     "exception": false,
     "start_time": "2023-04-18T04:35:24.361876",
     "status": "completed"
    },
    "tags": []
   },
   "source": [
    "# 3. Model Building -\n",
    "\n",
    "## i. Model 1 - Model_Basic: Build Basic model on all attributes, analyze model performance\n"
   ]
  },
  {
   "cell_type": "code",
   "execution_count": 25,
   "id": "0fcdd08e",
   "metadata": {
    "execution": {
     "iopub.execute_input": "2023-04-18T04:35:24.428803Z",
     "iopub.status.busy": "2023-04-18T04:35:24.428076Z",
     "iopub.status.idle": "2023-04-18T04:35:24.436091Z",
     "shell.execute_reply": "2023-04-18T04:35:24.434849Z"
    },
    "id": "0d4154ce",
    "outputId": "3da7f8ef-c12b-45aa-d4d1-2ce22c5c5ef2",
    "papermill": {
     "duration": 0.033077,
     "end_time": "2023-04-18T04:35:24.438351",
     "exception": false,
     "start_time": "2023-04-18T04:35:24.405274",
     "status": "completed"
    },
    "tags": []
   },
   "outputs": [
    {
     "name": "stdout",
     "output_type": "stream",
     "text": [
      "0    2998\n",
      "1     502\n",
      "dtype: int64\n",
      "0    1295\n",
      "1     205\n",
      "dtype: int64\n"
     ]
    }
   ],
   "source": [
    "print(pd.value_counts(y_train))\n",
    "print(pd.value_counts(y_test))"
   ]
  },
  {
   "cell_type": "code",
   "execution_count": 26,
   "id": "8779092d",
   "metadata": {
    "execution": {
     "iopub.execute_input": "2023-04-18T04:35:24.482712Z",
     "iopub.status.busy": "2023-04-18T04:35:24.482230Z",
     "iopub.status.idle": "2023-04-18T04:35:24.487780Z",
     "shell.execute_reply": "2023-04-18T04:35:24.486515Z"
    },
    "id": "c39d6238",
    "papermill": {
     "duration": 0.030511,
     "end_time": "2023-04-18T04:35:24.490237",
     "exception": false,
     "start_time": "2023-04-18T04:35:24.459726",
     "status": "completed"
    },
    "tags": []
   },
   "outputs": [],
   "source": [
    "lr_model = LogisticRegression(solver='liblinear', random_state=1100)"
   ]
  },
  {
   "cell_type": "code",
   "execution_count": 27,
   "id": "e0c6562d",
   "metadata": {
    "execution": {
     "iopub.execute_input": "2023-04-18T04:35:24.534891Z",
     "iopub.status.busy": "2023-04-18T04:35:24.534507Z",
     "iopub.status.idle": "2023-04-18T04:35:24.656599Z",
     "shell.execute_reply": "2023-04-18T04:35:24.655248Z"
    },
    "id": "3b1f1a3c",
    "papermill": {
     "duration": 0.147668,
     "end_time": "2023-04-18T04:35:24.659293",
     "exception": false,
     "start_time": "2023-04-18T04:35:24.511625",
     "status": "completed"
    },
    "tags": []
   },
   "outputs": [],
   "source": [
    "Model_1=lr_model.fit(x_train, y_train)"
   ]
  },
  {
   "cell_type": "markdown",
   "id": "f2520cd9",
   "metadata": {
    "id": "1a7dabc1",
    "papermill": {
     "duration": 0.021813,
     "end_time": "2023-04-18T04:35:24.702386",
     "exception": false,
     "start_time": "2023-04-18T04:35:24.680573",
     "status": "completed"
    },
    "tags": []
   },
   "source": [
    "## ii. Interpret the model output\n",
    "#### 1. Significance of overall model"
   ]
  },
  {
   "cell_type": "code",
   "execution_count": 28,
   "id": "ca049982",
   "metadata": {
    "execution": {
     "iopub.execute_input": "2023-04-18T04:35:24.748496Z",
     "iopub.status.busy": "2023-04-18T04:35:24.747666Z",
     "iopub.status.idle": "2023-04-18T04:35:24.755615Z",
     "shell.execute_reply": "2023-04-18T04:35:24.754443Z"
    },
    "id": "d363ba74",
    "outputId": "af7a3470-9f3e-41a8-a8f4-7da95db659dc",
    "papermill": {
     "duration": 0.03372,
     "end_time": "2023-04-18T04:35:24.757932",
     "exception": false,
     "start_time": "2023-04-18T04:35:24.724212",
     "status": "completed"
    },
    "tags": []
   },
   "outputs": [
    {
     "data": {
      "text/plain": [
       "array([[ 0.01923023,  0.01125781, -0.00225532,  0.00401616,  0.00464606,\n",
       "        -0.00510872,  0.00942884,  0.00428409, -0.00432869, -0.01845813,\n",
       "         0.05562015, -0.08283919,  0.02302371,  0.44803059,  2.05343826,\n",
       "        -1.69079795]])"
      ]
     },
     "execution_count": 28,
     "metadata": {},
     "output_type": "execute_result"
    }
   ],
   "source": [
    "Model_1.coef_"
   ]
  },
  {
   "cell_type": "code",
   "execution_count": 29,
   "id": "91f1db8d",
   "metadata": {
    "execution": {
     "iopub.execute_input": "2023-04-18T04:35:24.803383Z",
     "iopub.status.busy": "2023-04-18T04:35:24.802909Z",
     "iopub.status.idle": "2023-04-18T04:35:24.818052Z",
     "shell.execute_reply": "2023-04-18T04:35:24.816772Z"
    },
    "id": "ec6eaa0d",
    "outputId": "da6277ea-99ea-40bd-c3d4-ab720f57bd33",
    "papermill": {
     "duration": 0.041122,
     "end_time": "2023-04-18T04:35:24.820680",
     "exception": false,
     "start_time": "2023-04-18T04:35:24.779558",
     "status": "completed"
    },
    "tags": []
   },
   "outputs": [
    {
     "data": {
      "text/html": [
       "<div>\n",
       "<style scoped>\n",
       "    .dataframe tbody tr th:only-of-type {\n",
       "        vertical-align: middle;\n",
       "    }\n",
       "\n",
       "    .dataframe tbody tr th {\n",
       "        vertical-align: top;\n",
       "    }\n",
       "\n",
       "    .dataframe thead th {\n",
       "        text-align: right;\n",
       "    }\n",
       "</style>\n",
       "<table border=\"1\" class=\"dataframe\">\n",
       "  <thead>\n",
       "    <tr style=\"text-align: right;\">\n",
       "      <th></th>\n",
       "      <th>Variable</th>\n",
       "      <th>coefficient</th>\n",
       "    </tr>\n",
       "  </thead>\n",
       "  <tbody>\n",
       "    <tr>\n",
       "      <th>0</th>\n",
       "      <td>X..Vmail.Messages</td>\n",
       "      <td>0.019230</td>\n",
       "    </tr>\n",
       "    <tr>\n",
       "      <th>1</th>\n",
       "      <td>Total.Day.Minutes</td>\n",
       "      <td>0.011258</td>\n",
       "    </tr>\n",
       "    <tr>\n",
       "      <th>2</th>\n",
       "      <td>Total.Day.Calls</td>\n",
       "      <td>-0.002255</td>\n",
       "    </tr>\n",
       "    <tr>\n",
       "      <th>3</th>\n",
       "      <td>Total.Day.Charge</td>\n",
       "      <td>0.004016</td>\n",
       "    </tr>\n",
       "    <tr>\n",
       "      <th>4</th>\n",
       "      <td>Total.Eve.Minutes</td>\n",
       "      <td>0.004646</td>\n",
       "    </tr>\n",
       "    <tr>\n",
       "      <th>5</th>\n",
       "      <td>Total.Eve.Calls</td>\n",
       "      <td>-0.005109</td>\n",
       "    </tr>\n",
       "    <tr>\n",
       "      <th>6</th>\n",
       "      <td>Total.Eve.Charge</td>\n",
       "      <td>0.009429</td>\n",
       "    </tr>\n",
       "    <tr>\n",
       "      <th>7</th>\n",
       "      <td>Total.Night.Minutes</td>\n",
       "      <td>0.004284</td>\n",
       "    </tr>\n",
       "    <tr>\n",
       "      <th>8</th>\n",
       "      <td>Total.Night.Calls</td>\n",
       "      <td>-0.004329</td>\n",
       "    </tr>\n",
       "    <tr>\n",
       "      <th>9</th>\n",
       "      <td>Total.Night.Charge</td>\n",
       "      <td>-0.018458</td>\n",
       "    </tr>\n",
       "    <tr>\n",
       "      <th>10</th>\n",
       "      <td>Total.Intl.Minutes</td>\n",
       "      <td>0.055620</td>\n",
       "    </tr>\n",
       "    <tr>\n",
       "      <th>11</th>\n",
       "      <td>Total.Intl.Calls</td>\n",
       "      <td>-0.082839</td>\n",
       "    </tr>\n",
       "    <tr>\n",
       "      <th>12</th>\n",
       "      <td>Total.Intl.Charge</td>\n",
       "      <td>0.023024</td>\n",
       "    </tr>\n",
       "    <tr>\n",
       "      <th>13</th>\n",
       "      <td>X..customer.Service.Calls</td>\n",
       "      <td>0.448031</td>\n",
       "    </tr>\n",
       "    <tr>\n",
       "      <th>14</th>\n",
       "      <td>International.Plan_yes</td>\n",
       "      <td>2.053438</td>\n",
       "    </tr>\n",
       "    <tr>\n",
       "      <th>15</th>\n",
       "      <td>Voice.Mail.Plan_yes</td>\n",
       "      <td>-1.690798</td>\n",
       "    </tr>\n",
       "  </tbody>\n",
       "</table>\n",
       "</div>"
      ],
      "text/plain": [
       "                     Variable  coefficient\n",
       "0           X..Vmail.Messages     0.019230\n",
       "1           Total.Day.Minutes     0.011258\n",
       "2             Total.Day.Calls    -0.002255\n",
       "3            Total.Day.Charge     0.004016\n",
       "4           Total.Eve.Minutes     0.004646\n",
       "5             Total.Eve.Calls    -0.005109\n",
       "6            Total.Eve.Charge     0.009429\n",
       "7         Total.Night.Minutes     0.004284\n",
       "8           Total.Night.Calls    -0.004329\n",
       "9          Total.Night.Charge    -0.018458\n",
       "10         Total.Intl.Minutes     0.055620\n",
       "11           Total.Intl.Calls    -0.082839\n",
       "12          Total.Intl.Charge     0.023024\n",
       "13  X..customer.Service.Calls     0.448031\n",
       "14     International.Plan_yes     2.053438\n",
       "15        Voice.Mail.Plan_yes    -1.690798"
      ]
     },
     "execution_count": 29,
     "metadata": {},
     "output_type": "execute_result"
    }
   ],
   "source": [
    "variables = [tup for tup in x_train.columns.values]\n",
    "coef = pd.concat([pd.Series(variables), pd.Series(lr_model.coef_.reshape(-1))], axis=1)\n",
    "coef.columns=[\"Variable\", \"coefficient\"]\n",
    "coef"
   ]
  },
  {
   "cell_type": "code",
   "execution_count": 30,
   "id": "667c03f4",
   "metadata": {
    "execution": {
     "iopub.execute_input": "2023-04-18T04:35:24.866237Z",
     "iopub.status.busy": "2023-04-18T04:35:24.865537Z",
     "iopub.status.idle": "2023-04-18T04:35:24.880582Z",
     "shell.execute_reply": "2023-04-18T04:35:24.878561Z"
    },
    "id": "bc6b7656",
    "papermill": {
     "duration": 0.042825,
     "end_time": "2023-04-18T04:35:24.885336",
     "exception": false,
     "start_time": "2023-04-18T04:35:24.842511",
     "status": "completed"
    },
    "tags": []
   },
   "outputs": [],
   "source": [
    "y_train_Pred = lr_model.predict(x_train)\n",
    "y_test_Pred = lr_model.predict(x_test)"
   ]
  },
  {
   "cell_type": "code",
   "execution_count": 31,
   "id": "d981bf2c",
   "metadata": {
    "execution": {
     "iopub.execute_input": "2023-04-18T04:35:25.001325Z",
     "iopub.status.busy": "2023-04-18T04:35:25.000896Z",
     "iopub.status.idle": "2023-04-18T04:35:25.011867Z",
     "shell.execute_reply": "2023-04-18T04:35:25.010410Z"
    },
    "id": "fccfe40f",
    "outputId": "41a480ea-9d77-41ae-a9b2-4e013edc1834",
    "papermill": {
     "duration": 0.070959,
     "end_time": "2023-04-18T04:35:25.014563",
     "exception": false,
     "start_time": "2023-04-18T04:35:24.943604",
     "status": "completed"
    },
    "tags": []
   },
   "outputs": [
    {
     "name": "stdout",
     "output_type": "stream",
     "text": [
      "Confusion matrix\n",
      "\n",
      " [[1268   27]\n",
      " [ 175   30]]\n",
      "\n",
      "True Positives(TP) =  1268\n",
      "\n",
      "True Negatives(TN) =  30\n",
      "\n",
      "False Positives(FP) =  27\n",
      "\n",
      "False Negatives(FN) =  175\n"
     ]
    }
   ],
   "source": [
    "cm = confusion_matrix(y_test, y_test_Pred)\n",
    "\n",
    "print('Confusion matrix\\n\\n', cm)\n",
    "\n",
    "print('\\nTrue Positives(TP) = ', cm[0,0])\n",
    "\n",
    "print('\\nTrue Negatives(TN) = ', cm[1,1])\n",
    "\n",
    "print('\\nFalse Positives(FP) = ', cm[0,1])\n",
    "\n",
    "print('\\nFalse Negatives(FN) = ', cm[1,0])"
   ]
  },
  {
   "cell_type": "markdown",
   "id": "6b714a81",
   "metadata": {
    "id": "fc8290fc",
    "papermill": {
     "duration": 0.021715,
     "end_time": "2023-04-18T04:35:25.058584",
     "exception": false,
     "start_time": "2023-04-18T04:35:25.036869",
     "status": "completed"
    },
    "tags": []
   },
   "source": [
    "## 2. Interpret coefficients for any of the numerical and categorical attributes"
   ]
  },
  {
   "cell_type": "code",
   "execution_count": 32,
   "id": "f938bfbc",
   "metadata": {
    "execution": {
     "iopub.execute_input": "2023-04-18T04:35:25.103930Z",
     "iopub.status.busy": "2023-04-18T04:35:25.103462Z",
     "iopub.status.idle": "2023-04-18T04:35:25.115648Z",
     "shell.execute_reply": "2023-04-18T04:35:25.114488Z"
    },
    "id": "185724b7",
    "outputId": "47a5270d-2f4b-42ce-cd9e-3e4326c29b9d",
    "papermill": {
     "duration": 0.037694,
     "end_time": "2023-04-18T04:35:25.118032",
     "exception": false,
     "start_time": "2023-04-18T04:35:25.080338",
     "status": "completed"
    },
    "tags": []
   },
   "outputs": [
    {
     "data": {
      "text/plain": [
       "0.884196668354887"
      ]
     },
     "execution_count": 32,
     "metadata": {},
     "output_type": "execute_result"
    }
   ],
   "source": [
    "#cheking the model equation\n",
    "XVmailMessages=7.762\n",
    "TotalDayMinutes=256.1\n",
    "TotalDayCalls=88.1\n",
    "TotalDayCharge=35.9\n",
    "TotalEveMinutes=250.5\n",
    "TotalEveCalls=100\n",
    "TotalEveCharge=12\n",
    "TotalNightMinutes=190\n",
    "TotalNightCalls=100\n",
    "TotalNightCharge=10\n",
    "TotalIntlMinutes=10\n",
    "TotalIntlCalls=5\n",
    "TotalIntlCharge=2.08\n",
    "XcustomerServiceCalls=3\n",
    "InternationalPlan_yes=1\n",
    "VoiceMailPlan_yes=1\n",
    "\n",
    "odds=np.exp((1+(0.013979*XVmailMessages)-(0.011955*TotalDayMinutes)-(0.000673*TotalDayCalls)+(0.003243*TotalDayCharge)+(0.005504*TotalEveMinutes)\n",
    "            -(0.003379*TotalEveCalls)+(0.007238*TotalEveCharge)+(0.004523*TotalNightMinutes)\n",
    "             -(0.002746*TotalNightCalls)-(0.011915*TotalNightCharge)+(0.065583*TotalIntlMinutes)\n",
    "             -(0.078683*TotalIntlCalls)+(0.023641*TotalIntlCharge)+(0.459059*XcustomerServiceCalls)\n",
    "             +(2.075271*InternationalPlan_yes)-(1.428540*VoiceMailPlan_yes)))\n",
    "odds/(odds+1)"
   ]
  },
  {
   "cell_type": "markdown",
   "id": "24a97fd1",
   "metadata": {
    "id": "8ef042a7",
    "papermill": {
     "duration": 0.021944,
     "end_time": "2023-04-18T04:35:25.161919",
     "exception": false,
     "start_time": "2023-04-18T04:35:25.139975",
     "status": "completed"
    },
    "tags": []
   },
   "source": [
    "## iii. Choose the appropriate evaluation metric"
   ]
  },
  {
   "cell_type": "code",
   "execution_count": 33,
   "id": "6e62ca36",
   "metadata": {
    "execution": {
     "iopub.execute_input": "2023-04-18T04:35:25.208743Z",
     "iopub.status.busy": "2023-04-18T04:35:25.207906Z",
     "iopub.status.idle": "2023-04-18T04:35:25.216074Z",
     "shell.execute_reply": "2023-04-18T04:35:25.214628Z"
    },
    "id": "1e4723cd",
    "outputId": "77bcbafe-3188-4674-f7cb-4483b5cc50e5",
    "papermill": {
     "duration": 0.034208,
     "end_time": "2023-04-18T04:35:25.218335",
     "exception": false,
     "start_time": "2023-04-18T04:35:25.184127",
     "status": "completed"
    },
    "tags": []
   },
   "outputs": [
    {
     "name": "stdout",
     "output_type": "stream",
     "text": [
      "========Train=======\n",
      "Accuracy of model 1 \n",
      "0.8642857142857143\n",
      "========Test=======\n",
      "Accuracy of model 1 \n",
      "0.8653333333333333\n"
     ]
    }
   ],
   "source": [
    "print('========Train=======')\n",
    "print(f\"Accuracy of model 1 \\n{accuracy_score(y_train, y_train_Pred)}\")\n",
    "\n",
    "print('========Test=======')\n",
    "print(f\"Accuracy of model 1 \\n{accuracy_score(y_test, y_test_Pred)}\")"
   ]
  },
  {
   "cell_type": "code",
   "execution_count": 34,
   "id": "36d54c36",
   "metadata": {
    "execution": {
     "iopub.execute_input": "2023-04-18T04:35:25.264548Z",
     "iopub.status.busy": "2023-04-18T04:35:25.264067Z",
     "iopub.status.idle": "2023-04-18T04:35:25.277655Z",
     "shell.execute_reply": "2023-04-18T04:35:25.276147Z"
    },
    "id": "94cda451",
    "outputId": "137dbfff-a1f1-48be-8c7f-aa6e0b94211a",
    "papermill": {
     "duration": 0.039788,
     "end_time": "2023-04-18T04:35:25.280403",
     "exception": false,
     "start_time": "2023-04-18T04:35:25.240615",
     "status": "completed"
    },
    "tags": []
   },
   "outputs": [
    {
     "name": "stdout",
     "output_type": "stream",
     "text": [
      "              precision    recall  f1-score   support\n",
      "\n",
      "           0       0.88      0.98      0.93      1295\n",
      "           1       0.53      0.15      0.23       205\n",
      "\n",
      "    accuracy                           0.87      1500\n",
      "   macro avg       0.70      0.56      0.58      1500\n",
      "weighted avg       0.83      0.87      0.83      1500\n",
      "\n"
     ]
    }
   ],
   "source": [
    "from sklearn.metrics import classification_report\n",
    "\n",
    "print(classification_report(y_test, y_test_Pred))"
   ]
  },
  {
   "cell_type": "markdown",
   "id": "1e356ba5",
   "metadata": {
    "id": "2a41c10f",
    "papermill": {
     "duration": 0.022572,
     "end_time": "2023-04-18T04:35:25.326064",
     "exception": false,
     "start_time": "2023-04-18T04:35:25.303492",
     "status": "completed"
    },
    "tags": []
   },
   "source": [
    "# 4. Steps to improve Model performance\n",
    " ## a. Build additional models:"
   ]
  },
  {
   "cell_type": "markdown",
   "id": "8df3bf14",
   "metadata": {
    "id": "554febfd",
    "papermill": {
     "duration": 0.021119,
     "end_time": "2023-04-18T04:35:25.368989",
     "exception": false,
     "start_time": "2023-04-18T04:35:25.347870",
     "status": "completed"
    },
    "tags": []
   },
   "source": [
    "### i. Model 2 : Check for multicollinearity using VIF, and build the model after removing multi-collinear attributes; analyze model performance"
   ]
  },
  {
   "cell_type": "code",
   "execution_count": 35,
   "id": "5fca766a",
   "metadata": {
    "execution": {
     "iopub.execute_input": "2023-04-18T04:35:25.415266Z",
     "iopub.status.busy": "2023-04-18T04:35:25.414843Z",
     "iopub.status.idle": "2023-04-18T04:35:25.790409Z",
     "shell.execute_reply": "2023-04-18T04:35:25.788660Z"
    },
    "id": "69fce2be",
    "outputId": "8ce70201-b0e2-4a52-dbb4-140ce9d80185",
    "papermill": {
     "duration": 0.404659,
     "end_time": "2023-04-18T04:35:25.795448",
     "exception": false,
     "start_time": "2023-04-18T04:35:25.390789",
     "status": "completed"
    },
    "tags": []
   },
   "outputs": [
    {
     "name": "stdout",
     "output_type": "stream",
     "text": [
      "                      feature           VIF\n",
      "0           X..Vmail.Messages  1.327051e+00\n",
      "1           Total.Day.Minutes  1.244923e+08\n",
      "2             Total.Day.Calls  2.169452e+01\n",
      "3            Total.Day.Charge  1.244967e+08\n",
      "4           Total.Eve.Minutes  3.727495e+07\n",
      "5             Total.Eve.Calls  2.164905e+01\n",
      "6            Total.Eve.Charge  3.727605e+07\n",
      "7         Total.Night.Minutes  1.056953e+07\n",
      "8           Total.Night.Calls  2.148014e+01\n",
      "9          Total.Night.Charge  1.056960e+07\n",
      "10         Total.Intl.Minutes  1.010930e+06\n",
      "11           Total.Intl.Calls  4.179857e+00\n",
      "12          Total.Intl.Charge  1.011426e+06\n",
      "13  X..customer.Service.Calls  2.413970e+00\n"
     ]
    }
   ],
   "source": [
    "from statsmodels.stats.outliers_influence import variance_inflation_factor\n",
    "\n",
    "# the independent variables set\n",
    "X = data[Numerical_Attributes]\n",
    "\n",
    "# VIF dataframe\n",
    "vif_data = pd.DataFrame()\n",
    "vif_data[\"feature\"] = X.columns\n",
    "\n",
    "# calculating VIF for each feature\n",
    "vif_data[\"VIF\"] = [variance_inflation_factor(X.values, i)\n",
    "for i in range(len(X.columns))]\n",
    "print(vif_data)"
   ]
  },
  {
   "cell_type": "code",
   "execution_count": 36,
   "id": "bc02c560",
   "metadata": {
    "execution": {
     "iopub.execute_input": "2023-04-18T04:35:25.906384Z",
     "iopub.status.busy": "2023-04-18T04:35:25.905980Z",
     "iopub.status.idle": "2023-04-18T04:35:25.915381Z",
     "shell.execute_reply": "2023-04-18T04:35:25.914117Z"
    },
    "id": "d5b5ffeb",
    "outputId": "49a82b0a-73fb-43f1-9609-22ffc4fbc40b",
    "papermill": {
     "duration": 0.062663,
     "end_time": "2023-04-18T04:35:25.917855",
     "exception": false,
     "start_time": "2023-04-18T04:35:25.855192",
     "status": "completed"
    },
    "tags": []
   },
   "outputs": [
    {
     "name": "stdout",
     "output_type": "stream",
     "text": [
      "                      feature       VIF\n",
      "0           X..Vmail.Messages  1.327051\n",
      "13  X..customer.Service.Calls  2.413970\n"
     ]
    }
   ],
   "source": [
    "data_vif_filter=vif_data[vif_data['VIF']<4]\n",
    "print(data_vif_filter)"
   ]
  },
  {
   "cell_type": "code",
   "execution_count": 37,
   "id": "d37a9980",
   "metadata": {
    "execution": {
     "iopub.execute_input": "2023-04-18T04:35:25.963975Z",
     "iopub.status.busy": "2023-04-18T04:35:25.963510Z",
     "iopub.status.idle": "2023-04-18T04:35:25.968315Z",
     "shell.execute_reply": "2023-04-18T04:35:25.967026Z"
    },
    "id": "2bc1a526",
    "papermill": {
     "duration": 0.030587,
     "end_time": "2023-04-18T04:35:25.970728",
     "exception": false,
     "start_time": "2023-04-18T04:35:25.940141",
     "status": "completed"
    },
    "tags": []
   },
   "outputs": [],
   "source": [
    "# vif_filter_columns=[ ]\n",
    "# for i in data_vif_filter:\n",
    "#     vif_filter_columns.append(data_vif_filter.feature)\n",
    "# print(vif_filter_columns)"
   ]
  },
  {
   "cell_type": "code",
   "execution_count": 38,
   "id": "99908a68",
   "metadata": {
    "execution": {
     "iopub.execute_input": "2023-04-18T04:35:26.016992Z",
     "iopub.status.busy": "2023-04-18T04:35:26.016339Z",
     "iopub.status.idle": "2023-04-18T04:35:26.021360Z",
     "shell.execute_reply": "2023-04-18T04:35:26.020151Z"
    },
    "id": "4bc7f13d",
    "papermill": {
     "duration": 0.031061,
     "end_time": "2023-04-18T04:35:26.023774",
     "exception": false,
     "start_time": "2023-04-18T04:35:25.992713",
     "status": "completed"
    },
    "tags": []
   },
   "outputs": [],
   "source": [
    "Columns_Vif_Filter=['X..Vmail.Messages','X..customer.Service.Calls','Churn','International.Plan_yes','Voice.Mail.Plan_yes','trainrows']"
   ]
  },
  {
   "cell_type": "code",
   "execution_count": 39,
   "id": "df762088",
   "metadata": {
    "execution": {
     "iopub.execute_input": "2023-04-18T04:35:26.070954Z",
     "iopub.status.busy": "2023-04-18T04:35:26.070508Z",
     "iopub.status.idle": "2023-04-18T04:35:26.076855Z",
     "shell.execute_reply": "2023-04-18T04:35:26.075605Z"
    },
    "id": "fe64be67",
    "papermill": {
     "duration": 0.032908,
     "end_time": "2023-04-18T04:35:26.079432",
     "exception": false,
     "start_time": "2023-04-18T04:35:26.046524",
     "status": "completed"
    },
    "tags": []
   },
   "outputs": [],
   "source": [
    "Vif_dataset=Final_data[Columns_Vif_Filter]"
   ]
  },
  {
   "cell_type": "code",
   "execution_count": 40,
   "id": "c13e031c",
   "metadata": {
    "execution": {
     "iopub.execute_input": "2023-04-18T04:35:26.127034Z",
     "iopub.status.busy": "2023-04-18T04:35:26.126594Z",
     "iopub.status.idle": "2023-04-18T04:35:26.139660Z",
     "shell.execute_reply": "2023-04-18T04:35:26.138248Z"
    },
    "id": "b66df6c8",
    "outputId": "ea8ca56e-bac5-4288-ca9e-c38e8141268c",
    "papermill": {
     "duration": 0.039891,
     "end_time": "2023-04-18T04:35:26.142068",
     "exception": false,
     "start_time": "2023-04-18T04:35:26.102177",
     "status": "completed"
    },
    "tags": []
   },
   "outputs": [
    {
     "data": {
      "text/html": [
       "<div>\n",
       "<style scoped>\n",
       "    .dataframe tbody tr th:only-of-type {\n",
       "        vertical-align: middle;\n",
       "    }\n",
       "\n",
       "    .dataframe tbody tr th {\n",
       "        vertical-align: top;\n",
       "    }\n",
       "\n",
       "    .dataframe thead th {\n",
       "        text-align: right;\n",
       "    }\n",
       "</style>\n",
       "<table border=\"1\" class=\"dataframe\">\n",
       "  <thead>\n",
       "    <tr style=\"text-align: right;\">\n",
       "      <th></th>\n",
       "      <th>X..Vmail.Messages</th>\n",
       "      <th>X..customer.Service.Calls</th>\n",
       "      <th>Churn</th>\n",
       "      <th>International.Plan_yes</th>\n",
       "      <th>Voice.Mail.Plan_yes</th>\n",
       "      <th>trainrows</th>\n",
       "    </tr>\n",
       "  </thead>\n",
       "  <tbody>\n",
       "    <tr>\n",
       "      <th>0</th>\n",
       "      <td>25.0</td>\n",
       "      <td>1.0</td>\n",
       "      <td>0</td>\n",
       "      <td>0</td>\n",
       "      <td>1</td>\n",
       "      <td>0</td>\n",
       "    </tr>\n",
       "    <tr>\n",
       "      <th>1</th>\n",
       "      <td>26.0</td>\n",
       "      <td>1.0</td>\n",
       "      <td>0</td>\n",
       "      <td>0</td>\n",
       "      <td>1</td>\n",
       "      <td>1</td>\n",
       "    </tr>\n",
       "    <tr>\n",
       "      <th>2</th>\n",
       "      <td>0.0</td>\n",
       "      <td>0.0</td>\n",
       "      <td>0</td>\n",
       "      <td>0</td>\n",
       "      <td>0</td>\n",
       "      <td>1</td>\n",
       "    </tr>\n",
       "    <tr>\n",
       "      <th>3</th>\n",
       "      <td>0.0</td>\n",
       "      <td>2.0</td>\n",
       "      <td>0</td>\n",
       "      <td>1</td>\n",
       "      <td>0</td>\n",
       "      <td>1</td>\n",
       "    </tr>\n",
       "    <tr>\n",
       "      <th>4</th>\n",
       "      <td>0.0</td>\n",
       "      <td>3.0</td>\n",
       "      <td>0</td>\n",
       "      <td>1</td>\n",
       "      <td>0</td>\n",
       "      <td>1</td>\n",
       "    </tr>\n",
       "  </tbody>\n",
       "</table>\n",
       "</div>"
      ],
      "text/plain": [
       "   X..Vmail.Messages  X..customer.Service.Calls  Churn  \\\n",
       "0               25.0                        1.0      0   \n",
       "1               26.0                        1.0      0   \n",
       "2                0.0                        0.0      0   \n",
       "3                0.0                        2.0      0   \n",
       "4                0.0                        3.0      0   \n",
       "\n",
       "   International.Plan_yes  Voice.Mail.Plan_yes  trainrows  \n",
       "0                       0                    1          0  \n",
       "1                       0                    1          1  \n",
       "2                       0                    0          1  \n",
       "3                       1                    0          1  \n",
       "4                       1                    0          1  "
      ]
     },
     "execution_count": 40,
     "metadata": {},
     "output_type": "execute_result"
    }
   ],
   "source": [
    "Vif_dataset.head()"
   ]
  },
  {
   "cell_type": "code",
   "execution_count": 41,
   "id": "446a8000",
   "metadata": {
    "execution": {
     "iopub.execute_input": "2023-04-18T04:35:26.188436Z",
     "iopub.status.busy": "2023-04-18T04:35:26.187976Z",
     "iopub.status.idle": "2023-04-18T04:35:26.196662Z",
     "shell.execute_reply": "2023-04-18T04:35:26.195377Z"
    },
    "id": "b461c086",
    "papermill": {
     "duration": 0.034705,
     "end_time": "2023-04-18T04:35:26.199068",
     "exception": false,
     "start_time": "2023-04-18T04:35:26.164363",
     "status": "completed"
    },
    "tags": []
   },
   "outputs": [],
   "source": [
    "Train_data2=Vif_dataset[Vif_dataset['trainrows']== 1]\n",
    "Test_data2=Vif_dataset[Vif_dataset['trainrows']== 0]"
   ]
  },
  {
   "cell_type": "code",
   "execution_count": 42,
   "id": "d6807c12",
   "metadata": {
    "execution": {
     "iopub.execute_input": "2023-04-18T04:35:26.249010Z",
     "iopub.status.busy": "2023-04-18T04:35:26.248576Z",
     "iopub.status.idle": "2023-04-18T04:35:26.259397Z",
     "shell.execute_reply": "2023-04-18T04:35:26.257878Z"
    },
    "id": "666b5aac",
    "papermill": {
     "duration": 0.040462,
     "end_time": "2023-04-18T04:35:26.261907",
     "exception": false,
     "start_time": "2023-04-18T04:35:26.221445",
     "status": "completed"
    },
    "tags": []
   },
   "outputs": [],
   "source": [
    "x2_train = Train_data2.drop('Churn', axis=1).drop('trainrows',axis=1)#independent variables\n",
    "y2_train = Train_data2['Churn']#dependent variables\n",
    "\n",
    "x2_test = Test_data2.drop('Churn', axis=1).drop('trainrows',axis=1)#independent variables\n",
    "y2_test = Test_data2['Churn']#dependent variables"
   ]
  },
  {
   "cell_type": "code",
   "execution_count": 43,
   "id": "a9892833",
   "metadata": {
    "execution": {
     "iopub.execute_input": "2023-04-18T04:35:26.307970Z",
     "iopub.status.busy": "2023-04-18T04:35:26.306955Z",
     "iopub.status.idle": "2023-04-18T04:35:26.313524Z",
     "shell.execute_reply": "2023-04-18T04:35:26.312572Z"
    },
    "id": "f5368523",
    "papermill": {
     "duration": 0.032101,
     "end_time": "2023-04-18T04:35:26.315732",
     "exception": false,
     "start_time": "2023-04-18T04:35:26.283631",
     "status": "completed"
    },
    "tags": []
   },
   "outputs": [],
   "source": [
    "le = LabelEncoder()\n",
    "\n",
    "y2_train = le.fit_transform(y2_train)\n",
    "y2_test = le.transform(y2_test)"
   ]
  },
  {
   "cell_type": "code",
   "execution_count": 44,
   "id": "5b435845",
   "metadata": {
    "execution": {
     "iopub.execute_input": "2023-04-18T04:35:26.363149Z",
     "iopub.status.busy": "2023-04-18T04:35:26.362116Z",
     "iopub.status.idle": "2023-04-18T04:35:26.376230Z",
     "shell.execute_reply": "2023-04-18T04:35:26.374984Z"
    },
    "id": "32de26a9",
    "papermill": {
     "duration": 0.04028,
     "end_time": "2023-04-18T04:35:26.378872",
     "exception": false,
     "start_time": "2023-04-18T04:35:26.338592",
     "status": "completed"
    },
    "tags": []
   },
   "outputs": [],
   "source": [
    "Model_2=lr_model.fit(x2_train, y2_train)"
   ]
  },
  {
   "cell_type": "code",
   "execution_count": 45,
   "id": "5754fb44",
   "metadata": {
    "execution": {
     "iopub.execute_input": "2023-04-18T04:35:26.426980Z",
     "iopub.status.busy": "2023-04-18T04:35:26.426571Z",
     "iopub.status.idle": "2023-04-18T04:35:26.430815Z",
     "shell.execute_reply": "2023-04-18T04:35:26.429898Z"
    },
    "id": "1a5552f4",
    "papermill": {
     "duration": 0.031335,
     "end_time": "2023-04-18T04:35:26.433266",
     "exception": false,
     "start_time": "2023-04-18T04:35:26.401931",
     "status": "completed"
    },
    "tags": []
   },
   "outputs": [],
   "source": [
    "# Model2=sm.Logit(y2_train,x2_train)"
   ]
  },
  {
   "cell_type": "code",
   "execution_count": 46,
   "id": "3b7e3a9e",
   "metadata": {
    "execution": {
     "iopub.execute_input": "2023-04-18T04:35:26.479429Z",
     "iopub.status.busy": "2023-04-18T04:35:26.478986Z",
     "iopub.status.idle": "2023-04-18T04:35:26.491350Z",
     "shell.execute_reply": "2023-04-18T04:35:26.489581Z"
    },
    "id": "cfd099a0",
    "outputId": "7027f4c9-a9e2-4459-8f75-8504c0508a3c",
    "papermill": {
     "duration": 0.039007,
     "end_time": "2023-04-18T04:35:26.494058",
     "exception": false,
     "start_time": "2023-04-18T04:35:26.455051",
     "status": "completed"
    },
    "tags": []
   },
   "outputs": [
    {
     "name": "stdout",
     "output_type": "stream",
     "text": [
      "LogisticRegression(random_state=1100, solver='liblinear')\n"
     ]
    }
   ],
   "source": [
    "print(Model_2)"
   ]
  },
  {
   "cell_type": "code",
   "execution_count": 47,
   "id": "18672a6c",
   "metadata": {
    "execution": {
     "iopub.execute_input": "2023-04-18T04:35:26.541571Z",
     "iopub.status.busy": "2023-04-18T04:35:26.540422Z",
     "iopub.status.idle": "2023-04-18T04:35:26.554144Z",
     "shell.execute_reply": "2023-04-18T04:35:26.553241Z"
    },
    "id": "fe5f3a1d",
    "papermill": {
     "duration": 0.041633,
     "end_time": "2023-04-18T04:35:26.558398",
     "exception": false,
     "start_time": "2023-04-18T04:35:26.516765",
     "status": "completed"
    },
    "tags": []
   },
   "outputs": [],
   "source": [
    "y2_train_Pred = lr_model.predict(x2_train)\n",
    "y2_test_Pred = lr_model.predict(x2_test)"
   ]
  },
  {
   "cell_type": "code",
   "execution_count": 48,
   "id": "eb122b7f",
   "metadata": {
    "execution": {
     "iopub.execute_input": "2023-04-18T04:35:26.673878Z",
     "iopub.status.busy": "2023-04-18T04:35:26.673457Z",
     "iopub.status.idle": "2023-04-18T04:35:26.682185Z",
     "shell.execute_reply": "2023-04-18T04:35:26.681055Z"
    },
    "id": "9b9608d9",
    "outputId": "22d3d453-84c9-4192-f4dd-7a17bd2abec8",
    "papermill": {
     "duration": 0.066175,
     "end_time": "2023-04-18T04:35:26.684359",
     "exception": false,
     "start_time": "2023-04-18T04:35:26.618184",
     "status": "completed"
    },
    "tags": []
   },
   "outputs": [
    {
     "name": "stdout",
     "output_type": "stream",
     "text": [
      "Confusion matrix\n",
      "\n",
      " [[1274   21]\n",
      " [ 186   19]]\n",
      "\n",
      "True Positives(TP) =  1274\n",
      "\n",
      "True Negatives(TN) =  19\n",
      "\n",
      "False Positives(FP) =  21\n",
      "\n",
      "False Negatives(FN) =  186\n"
     ]
    }
   ],
   "source": [
    "from sklearn.metrics import confusion_matrix\n",
    "\n",
    "cm2 = confusion_matrix(y2_test, y2_test_Pred)\n",
    "\n",
    "print('Confusion matrix\\n\\n', cm2)\n",
    "\n",
    "print('\\nTrue Positives(TP) = ', cm2[0,0])\n",
    "\n",
    "print('\\nTrue Negatives(TN) = ', cm2[1,1])\n",
    "\n",
    "print('\\nFalse Positives(FP) = ', cm2[0,1])\n",
    "\n",
    "print('\\nFalse Negatives(FN) = ', cm2[1,0])"
   ]
  },
  {
   "cell_type": "code",
   "execution_count": 49,
   "id": "a9c561a3",
   "metadata": {
    "execution": {
     "iopub.execute_input": "2023-04-18T04:35:26.732338Z",
     "iopub.status.busy": "2023-04-18T04:35:26.731529Z",
     "iopub.status.idle": "2023-04-18T04:35:27.005290Z",
     "shell.execute_reply": "2023-04-18T04:35:27.004343Z"
    },
    "id": "9649c7fa",
    "outputId": "f81d01bc-8306-4d08-e45a-fa580def0c7d",
    "papermill": {
     "duration": 0.300823,
     "end_time": "2023-04-18T04:35:27.007896",
     "exception": false,
     "start_time": "2023-04-18T04:35:26.707073",
     "status": "completed"
    },
    "tags": []
   },
   "outputs": [
    {
     "data": {
      "image/png": "[encoded data removed]",
      "text/plain": [
       "<Figure size 640x480 with 2 Axes>"
      ]
     },
     "metadata": {},
     "output_type": "display_data"
    }
   ],
   "source": [
    "cm2_matrix = pd.DataFrame(data=cm2, columns=['Actual Positive:1', 'Actual Negative:0'], \n",
    "                                 index=['Predict Positive:1', 'Predict Negative:0'])\n",
    "\n",
    "sns.heatmap(cm2_matrix, annot=True, fmt='d')\n",
    "plt.show()"
   ]
  },
  {
   "cell_type": "code",
   "execution_count": 50,
   "id": "5bb1de8f",
   "metadata": {
    "execution": {
     "iopub.execute_input": "2023-04-18T04:35:27.057822Z",
     "iopub.status.busy": "2023-04-18T04:35:27.057048Z",
     "iopub.status.idle": "2023-04-18T04:35:27.063361Z",
     "shell.execute_reply": "2023-04-18T04:35:27.062471Z"
    },
    "id": "8502dcb2",
    "outputId": "5747ae80-52bf-48bb-ba6a-1c2015e9328c",
    "papermill": {
     "duration": 0.033689,
     "end_time": "2023-04-18T04:35:27.065516",
     "exception": false,
     "start_time": "2023-04-18T04:35:27.031827",
     "status": "completed"
    },
    "tags": []
   },
   "outputs": [
    {
     "data": {
      "text/plain": [
       "array([[ 0.01662989,  0.42141881,  1.95067783, -1.50806321]])"
      ]
     },
     "execution_count": 50,
     "metadata": {},
     "output_type": "execute_result"
    }
   ],
   "source": [
    "Model_2.coef_"
   ]
  },
  {
   "cell_type": "code",
   "execution_count": 51,
   "id": "b15289f7",
   "metadata": {
    "execution": {
     "iopub.execute_input": "2023-04-18T04:35:27.117655Z",
     "iopub.status.busy": "2023-04-18T04:35:27.116901Z",
     "iopub.status.idle": "2023-04-18T04:35:27.124496Z",
     "shell.execute_reply": "2023-04-18T04:35:27.122996Z"
    },
    "id": "268cf5be",
    "outputId": "040c439c-b76e-411c-9ccb-93f51f1e1506",
    "papermill": {
     "duration": 0.035375,
     "end_time": "2023-04-18T04:35:27.126833",
     "exception": false,
     "start_time": "2023-04-18T04:35:27.091458",
     "status": "completed"
    },
    "tags": []
   },
   "outputs": [
    {
     "name": "stdout",
     "output_type": "stream",
     "text": [
      "========Train=======\n",
      "Accuracy of model 2 \n",
      "0.8594285714285714\n",
      "========Test=======\n",
      "Accuracy of model 2\n",
      "0.862\n"
     ]
    }
   ],
   "source": [
    "print('========Train=======')\n",
    "print(f\"Accuracy of model 2 \\n{accuracy_score(y2_train, y2_train_Pred)}\")\n",
    "print('========Test=======')\n",
    "print(f\"Accuracy of model 2\\n{accuracy_score(y2_test, y2_test_Pred)}\")"
   ]
  },
  {
   "cell_type": "markdown",
   "id": "52ea4aaa",
   "metadata": {
    "id": "43835ad8",
    "papermill": {
     "duration": 0.022646,
     "end_time": "2023-04-18T04:35:27.172624",
     "exception": false,
     "start_time": "2023-04-18T04:35:27.149978",
     "status": "completed"
    },
    "tags": []
   },
   "source": [
    "### ii. Model 3 : Model with significant attributes given by Model2;analyze model performance"
   ]
  },
  {
   "cell_type": "code",
   "execution_count": 52,
   "id": "583df5ab",
   "metadata": {
    "execution": {
     "iopub.execute_input": "2023-04-18T04:35:27.222229Z",
     "iopub.status.busy": "2023-04-18T04:35:27.221476Z",
     "iopub.status.idle": "2023-04-18T04:35:27.232878Z",
     "shell.execute_reply": "2023-04-18T04:35:27.231348Z"
    },
    "id": "b3f74b89",
    "outputId": "d40fadf7-2351-4287-c5a2-c9ef002ff047",
    "papermill": {
     "duration": 0.038522,
     "end_time": "2023-04-18T04:35:27.235273",
     "exception": false,
     "start_time": "2023-04-18T04:35:27.196751",
     "status": "completed"
    },
    "scrolled": true,
    "tags": []
   },
   "outputs": [
    {
     "name": "stdout",
     "output_type": "stream",
     "text": [
      "              precision    recall  f1-score   support\n",
      "\n",
      "           0       0.87      0.98      0.92      1295\n",
      "           1       0.47      0.09      0.16       205\n",
      "\n",
      "    accuracy                           0.86      1500\n",
      "   macro avg       0.67      0.54      0.54      1500\n",
      "weighted avg       0.82      0.86      0.82      1500\n",
      "\n"
     ]
    }
   ],
   "source": [
    "from sklearn.metrics import classification_report\n",
    "\n",
    "print(classification_report(y2_test, y2_test_Pred))"
   ]
  },
  {
   "cell_type": "markdown",
   "id": "b19ff30b",
   "metadata": {
    "id": "656362fb",
    "papermill": {
     "duration": 0.023059,
     "end_time": "2023-04-18T04:35:27.281817",
     "exception": false,
     "start_time": "2023-04-18T04:35:27.258758",
     "status": "completed"
    },
    "tags": []
   },
   "source": [
    "### iii. Model 4: For the Model 2, compute perfor- mance with probability threshold decided based on ROC curve; analyze model performance"
   ]
  },
  {
   "cell_type": "code",
   "execution_count": 53,
   "id": "43455a41",
   "metadata": {
    "execution": {
     "iopub.execute_input": "2023-04-18T04:35:27.330340Z",
     "iopub.status.busy": "2023-04-18T04:35:27.329933Z",
     "iopub.status.idle": "2023-04-18T04:35:27.561272Z",
     "shell.execute_reply": "2023-04-18T04:35:27.559930Z"
    },
    "id": "40df3d65",
    "outputId": "4a104e10-dfa2-41c8-9d7f-d02ff6560b06",
    "papermill": {
     "duration": 0.259121,
     "end_time": "2023-04-18T04:35:27.563899",
     "exception": false,
     "start_time": "2023-04-18T04:35:27.304778",
     "status": "completed"
    },
    "tags": []
   },
   "outputs": [
    {
     "data": {
      "image/png": "[encoded data removed]",
      "text/plain": [
       "<Figure size 640x480 with 1 Axes>"
      ]
     },
     "metadata": {},
     "output_type": "display_data"
    }
   ],
   "source": [
    "from sklearn.metrics import roc_auc_score\n",
    "from sklearn.metrics import roc_curve\n",
    "logit_roc_auc = roc_auc_score(y2_test, lr_model.predict(x2_test))\n",
    "fpr, tpr, thresholds = roc_curve(y2_test, lr_model.predict_proba(x2_test)[:, 1])\n",
    "plt.figure()\n",
    "plt.plot(fpr, tpr, label='Logistic Regression (area = %0.2f)' % logit_roc_auc)\n",
    "plt.plot([0, 1], [0, 1],'r--')\n",
    "plt.xlim([0.0, 1.0])\n",
    "plt.ylim([0.0, 1.05])\n",
    "plt.xlabel('False Positive Rate')\n",
    "plt.ylabel('True Positive Rate')\n",
    "plt.title('Receiver operating characteristic')\n",
    "plt.legend(loc=\"lower right\")\n",
    "plt.show()"
   ]
  },
  {
   "cell_type": "markdown",
   "id": "2ee38d16",
   "metadata": {
    "id": "fb3b93ad",
    "papermill": {
     "duration": 0.024207,
     "end_time": "2023-04-18T04:35:27.612465",
     "exception": false,
     "start_time": "2023-04-18T04:35:27.588258",
     "status": "completed"
    },
    "tags": []
   },
   "source": [
    "## Model 5: Model 2 with regularisation imposed; analyze model performance"
   ]
  },
  {
   "cell_type": "code",
   "execution_count": 54,
   "id": "8e26e539",
   "metadata": {
    "execution": {
     "iopub.execute_input": "2023-04-18T04:35:27.662675Z",
     "iopub.status.busy": "2023-04-18T04:35:27.661609Z",
     "iopub.status.idle": "2023-04-18T04:35:27.680547Z",
     "shell.execute_reply": "2023-04-18T04:35:27.679037Z"
    },
    "id": "cec7092b",
    "outputId": "3ba66b32-b410-4211-d937-357277588b50",
    "papermill": {
     "duration": 0.046799,
     "end_time": "2023-04-18T04:35:27.683367",
     "exception": false,
     "start_time": "2023-04-18T04:35:27.636568",
     "status": "completed"
    },
    "tags": []
   },
   "outputs": [
    {
     "name": "stdout",
     "output_type": "stream",
     "text": [
      "[0.00620456 0.11379514 0.01950858 ... 0.05151233 0.21539271 0.10613912]\n",
      "                 column_name  coefficient_values\n",
      "0          X..Vmail.Messages            0.001663\n",
      "1  X..customer.Service.Calls            0.054627\n",
      "2     International.Plan_yes            0.325513\n",
      "3        Voice.Mail.Plan_yes           -0.141510\n"
     ]
    }
   ],
   "source": [
    "#import ridge regression library\n",
    "from sklearn.linear_model import Ridge\n",
    "\n",
    "#Train the model\n",
    "ridgeRegressor = Ridge(alpha=0)#here setting the alpha 1\n",
    "Model_3=ridgeRegressor.fit(x2_train,y2_train)\n",
    "y_pred_ridge=ridgeRegressor.predict(x2_test)\n",
    "print(y_pred_ridge)\n",
    "\n",
    "coefficient_df = pd.DataFrame()\n",
    "coefficient_df['column_name']=x2_train.columns\n",
    "coefficient_df['coefficient_values']=pd.Series(ridgeRegressor.coef_)\n",
    "print(coefficient_df)\n",
    "\n",
    "# plt.rcParams['figure.figsize']=(15,6)\n",
    "# plt.bar(coefficient_df[\"column_name\"],coefficient_df[\"coefficient_values\"])"
   ]
  },
  {
   "cell_type": "code",
   "execution_count": 55,
   "id": "96d741c8",
   "metadata": {
    "execution": {
     "iopub.execute_input": "2023-04-18T04:35:27.734359Z",
     "iopub.status.busy": "2023-04-18T04:35:27.733968Z",
     "iopub.status.idle": "2023-04-18T04:35:27.741753Z",
     "shell.execute_reply": "2023-04-18T04:35:27.740680Z"
    },
    "id": "97d3f739",
    "outputId": "20c14568-95d1-42b0-8cc6-bc301bac63f1",
    "papermill": {
     "duration": 0.036458,
     "end_time": "2023-04-18T04:35:27.744310",
     "exception": false,
     "start_time": "2023-04-18T04:35:27.707852",
     "status": "completed"
    },
    "tags": []
   },
   "outputs": [
    {
     "data": {
      "text/plain": [
       "0.5892321912556613"
      ]
     },
     "execution_count": 55,
     "metadata": {},
     "output_type": "execute_result"
    }
   ],
   "source": [
    "odds=np.exp(((0.001663*XVmailMessages)+(0.054627*XcustomerServiceCalls)\n",
    "             +(0.325513*InternationalPlan_yes)-(0.141510*VoiceMailPlan_yes)))\n",
    "odds/(odds+1)"
   ]
  },
  {
   "cell_type": "markdown",
   "id": "11ab9985",
   "metadata": {
    "id": "197bb96e",
    "papermill": {
     "duration": 0.02377,
     "end_time": "2023-04-18T04:35:27.793288",
     "exception": false,
     "start_time": "2023-04-18T04:35:27.769518",
     "status": "completed"
    },
    "tags": []
   },
   "source": [
    "### b. Tabulate the train and validation results for all the above models"
   ]
  },
  {
   "cell_type": "code",
   "execution_count": 56,
   "id": "2e0c8c1f",
   "metadata": {
    "execution": {
     "iopub.execute_input": "2023-04-18T04:35:27.843838Z",
     "iopub.status.busy": "2023-04-18T04:35:27.842517Z",
     "iopub.status.idle": "2023-04-18T04:35:27.862137Z",
     "shell.execute_reply": "2023-04-18T04:35:27.860314Z"
    },
    "id": "5be78cdf",
    "papermill": {
     "duration": 0.049947,
     "end_time": "2023-04-18T04:35:27.866766",
     "exception": false,
     "start_time": "2023-04-18T04:35:27.816819",
     "status": "completed"
    },
    "tags": []
   },
   "outputs": [],
   "source": [
    "y2_pred_train = lr_model.predict(x2_train)\n",
    "\n",
    "y2_pred_test = lr_model.predict(x2_test)"
   ]
  },
  {
   "cell_type": "markdown",
   "id": "8e8febc9",
   "metadata": {
    "id": "04c8e806",
    "papermill": {
     "duration": 0.050482,
     "end_time": "2023-04-18T04:35:27.982281",
     "exception": false,
     "start_time": "2023-04-18T04:35:27.931799",
     "status": "completed"
    },
    "tags": []
   },
   "source": [
    "### predict_proba method\n",
    "\n",
    "\n",
    "**predict_proba** method gives the probabilities for the target variable(0 and 1) in this case, in array form.\n",
    "\n",
    "`0 is for probability of No-Churn` and `1 is for probability of Churn.`"
   ]
  },
  {
   "cell_type": "code",
   "execution_count": 57,
   "id": "ddacf636",
   "metadata": {
    "execution": {
     "iopub.execute_input": "2023-04-18T04:35:28.032429Z",
     "iopub.status.busy": "2023-04-18T04:35:28.031972Z",
     "iopub.status.idle": "2023-04-18T04:35:28.042434Z",
     "shell.execute_reply": "2023-04-18T04:35:28.041532Z"
    },
    "id": "f912f530",
    "outputId": "447cfe8d-18a4-4096-f8bd-319194ab3df0",
    "papermill": {
     "duration": 0.038195,
     "end_time": "2023-04-18T04:35:28.044754",
     "exception": false,
     "start_time": "2023-04-18T04:35:28.006559",
     "status": "completed"
    },
    "tags": []
   },
   "outputs": [
    {
     "data": {
      "text/plain": [
       "array([0.96460229, 0.92264654, 0.95976802, ..., 0.93302868, 0.79736644,\n",
       "       0.90138888])"
      ]
     },
     "execution_count": 57,
     "metadata": {},
     "output_type": "execute_result"
    }
   ],
   "source": [
    "# probability of getting output as 0 - No Churn\n",
    "\n",
    "lr_model.predict_proba(x2_test)[:,0]"
   ]
  },
  {
   "cell_type": "code",
   "execution_count": 58,
   "id": "e6aa6dd2",
   "metadata": {
    "execution": {
     "iopub.execute_input": "2023-04-18T04:35:28.095125Z",
     "iopub.status.busy": "2023-04-18T04:35:28.094679Z",
     "iopub.status.idle": "2023-04-18T04:35:28.104186Z",
     "shell.execute_reply": "2023-04-18T04:35:28.102997Z"
    },
    "id": "536a23a9",
    "outputId": "d0ca7fc4-f1c7-4caa-b337-1485bfeea282",
    "papermill": {
     "duration": 0.037569,
     "end_time": "2023-04-18T04:35:28.106390",
     "exception": false,
     "start_time": "2023-04-18T04:35:28.068821",
     "status": "completed"
    },
    "tags": []
   },
   "outputs": [
    {
     "data": {
      "text/plain": [
       "array([0.03539771, 0.07735346, 0.04023198, ..., 0.06697132, 0.20263356,\n",
       "       0.09861112])"
      ]
     },
     "execution_count": 58,
     "metadata": {},
     "output_type": "execute_result"
    }
   ],
   "source": [
    "# probability of getting output as 1 - rain\n",
    "\n",
    "lr_model.predict_proba(x2_test)[:,1]"
   ]
  },
  {
   "cell_type": "code",
   "execution_count": 59,
   "id": "37a81e4d",
   "metadata": {
    "execution": {
     "iopub.execute_input": "2023-04-18T04:35:28.156721Z",
     "iopub.status.busy": "2023-04-18T04:35:28.156054Z",
     "iopub.status.idle": "2023-04-18T04:35:28.163083Z",
     "shell.execute_reply": "2023-04-18T04:35:28.161684Z"
    },
    "id": "b5e6fe15",
    "outputId": "aa416144-8cd3-4f06-be22-ce86354bfe18",
    "papermill": {
     "duration": 0.034842,
     "end_time": "2023-04-18T04:35:28.165426",
     "exception": false,
     "start_time": "2023-04-18T04:35:28.130584",
     "status": "completed"
    },
    "tags": []
   },
   "outputs": [
    {
     "name": "stdout",
     "output_type": "stream",
     "text": [
      "Model accuracy score: 0.8620\n"
     ]
    }
   ],
   "source": [
    "from sklearn.metrics import accuracy_score\n",
    "\n",
    "print('Model accuracy score: {0:0.4f}'. format(accuracy_score(y2_test, y2_pred_test)))"
   ]
  },
  {
   "cell_type": "markdown",
   "id": "0c848c3a",
   "metadata": {
    "id": "4daed7ce",
    "papermill": {
     "duration": 0.023844,
     "end_time": "2023-04-18T04:35:28.213729",
     "exception": false,
     "start_time": "2023-04-18T04:35:28.189885",
     "status": "completed"
    },
    "tags": []
   },
   "source": [
    "Here, **y_test** are the true class labels and **y_pred_test** are the predicted class labels in the test-set."
   ]
  },
  {
   "cell_type": "markdown",
   "id": "d206865c",
   "metadata": {
    "id": "f22d1d41",
    "papermill": {
     "duration": 0.023957,
     "end_time": "2023-04-18T04:35:28.262150",
     "exception": false,
     "start_time": "2023-04-18T04:35:28.238193",
     "status": "completed"
    },
    "tags": []
   },
   "source": [
    "### c. Analyze model performances and finalize the model\n"
   ]
  },
  {
   "cell_type": "code",
   "execution_count": 60,
   "id": "d7c2661e",
   "metadata": {
    "execution": {
     "iopub.execute_input": "2023-04-18T04:35:28.312810Z",
     "iopub.status.busy": "2023-04-18T04:35:28.311792Z",
     "iopub.status.idle": "2023-04-18T04:35:28.323339Z",
     "shell.execute_reply": "2023-04-18T04:35:28.321763Z"
    },
    "id": "8307d5ed",
    "outputId": "4ff5f1b3-dc05-4763-fd54-60606fc0293d",
    "papermill": {
     "duration": 0.039606,
     "end_time": "2023-04-18T04:35:28.325847",
     "exception": false,
     "start_time": "2023-04-18T04:35:28.286241",
     "status": "completed"
    },
    "tags": []
   },
   "outputs": [
    {
     "name": "stdout",
     "output_type": "stream",
     "text": [
      "Accuracy : 0.8653\n",
      "Classification error : 0.1347\n",
      "Precision : 0.9792\n",
      "Recall or Sensitivity : 0.8787\n",
      "True Positive Rate : 0.8787\n",
      "False Positive Rate : 0.4737\n",
      "Specificity : 0.5263\n"
     ]
    }
   ],
   "source": [
    "#model1\n",
    "TP1 = cm[0,0]\n",
    "TN1 = cm[1,1]\n",
    "FP1 = cm[0,1]\n",
    "FN1 = cm[1,0]\n",
    "\n",
    "#Error Metrics\n",
    "Accuracy = (TP1 + TN1) / float(TP1 + TN1 + FP1 + FN1)\n",
    "classification_error = (FP1 + FN1) / float(TP1 + TN1 + FP1 + FN1)\n",
    "precision = TP1 / float(TP1 + FP1)\n",
    "recall = TP1 / float(TP1 + FN1)\n",
    "true_positive_rate = TP1 / float(TP1 + FN1)\n",
    "false_positive_rate = FP1 / float(FP1 + TN1)\n",
    "specificity = TN1 / (TN1 + FP1)\n",
    "print('Accuracy : {0:0.4f}'.format(Accuracy))\n",
    "print('Classification error : {0:0.4f}'.format(classification_error))\n",
    "print('Precision : {0:0.4f}'.format(precision))\n",
    "print('Recall or Sensitivity : {0:0.4f}'.format(recall))\n",
    "print('True Positive Rate : {0:0.4f}'.format(true_positive_rate))\n",
    "print('False Positive Rate : {0:0.4f}'.format(false_positive_rate))\n",
    "print('Specificity : {0:0.4f}'.format(specificity))"
   ]
  },
  {
   "cell_type": "code",
   "execution_count": 61,
   "id": "48e94dce",
   "metadata": {
    "execution": {
     "iopub.execute_input": "2023-04-18T04:35:28.376972Z",
     "iopub.status.busy": "2023-04-18T04:35:28.376225Z",
     "iopub.status.idle": "2023-04-18T04:35:28.386427Z",
     "shell.execute_reply": "2023-04-18T04:35:28.384964Z"
    },
    "id": "aa2ec75d",
    "outputId": "641cafab-5996-4006-eaca-6a7eb1d577ef",
    "papermill": {
     "duration": 0.038508,
     "end_time": "2023-04-18T04:35:28.388624",
     "exception": false,
     "start_time": "2023-04-18T04:35:28.350116",
     "status": "completed"
    },
    "tags": []
   },
   "outputs": [
    {
     "name": "stdout",
     "output_type": "stream",
     "text": [
      "Accuracy : 0.8620\n",
      "Classification error : 0.1380\n",
      "Precision : 0.9838\n",
      "Recall or Sensitivity : 0.8726\n",
      "True Positive Rate : 0.8726\n",
      "False Positive Rate : 0.5250\n",
      "Specificity : 0.4750\n"
     ]
    }
   ],
   "source": [
    "#from Model_2\n",
    "TP = cm2[0,0]\n",
    "TN = cm2[1,1]\n",
    "FP = cm2[0,1]\n",
    "FN = cm2[1,0]\n",
    "\n",
    "#Error Metrics\n",
    "Accuracy = (TP + TN) / float(TP + TN + FP + FN)\n",
    "classification_error = (FP + FN) / float(TP + TN + FP + FN)\n",
    "precision = TP / float(TP + FP)\n",
    "recall = TP / float(TP + FN)\n",
    "true_positive_rate = TP / float(TP + FN)\n",
    "false_positive_rate = FP / float(FP + TN)\n",
    "specificity = TN / (TN + FP)\n",
    "print('Accuracy : {0:0.4f}'.format(Accuracy))\n",
    "print('Classification error : {0:0.4f}'.format(classification_error))\n",
    "print('Precision : {0:0.4f}'.format(precision))\n",
    "print('Recall or Sensitivity : {0:0.4f}'.format(recall))\n",
    "print('True Positive Rate : {0:0.4f}'.format(true_positive_rate))\n",
    "print('False Positive Rate : {0:0.4f}'.format(false_positive_rate))\n",
    "print('Specificity : {0:0.4f}'.format(specificity))"
   ]
  },
  {
   "cell_type": "markdown",
   "id": "28ac5f5d",
   "metadata": {
    "id": "32154418",
    "papermill": {
     "duration": 0.025017,
     "end_time": "2023-04-18T04:35:28.438072",
     "exception": false,
     "start_time": "2023-04-18T04:35:28.413055",
     "status": "completed"
    },
    "tags": []
   },
   "source": [
    "## since the pression of the model2 is high which was built by using VIF technique, so we consider model 2 as good model"
   ]
  },
  {
   "cell_type": "code",
   "execution_count": null,
   "id": "ab1ac6ee",
   "metadata": {
    "papermill": {
     "duration": 0.02441,
     "end_time": "2023-04-18T04:35:28.487041",
     "exception": false,
     "start_time": "2023-04-18T04:35:28.462631",
     "status": "completed"
    },
    "tags": []
   },
   "outputs": [],
   "source": []
  },
  {
   "cell_type": "code",
   "execution_count": null,
   "id": "d899ab51",
   "metadata": {
    "papermill": {
     "duration": 0.024173,
     "end_time": "2023-04-18T04:35:28.535975",
     "exception": false,
     "start_time": "2023-04-18T04:35:28.511802",
     "status": "completed"
    },
    "tags": []
   },
   "outputs": [],
   "source": []
  }
 ],
 "metadata": {
  "kernelspec": {
   "display_name": "Python 3",
   "language": "python",
   "name": "python3"
  },
  "language_info": {
   "codemirror_mode": {
    "name": "ipython",
    "version": 3
   },
   "file_extension": ".py",
   "mimetype": "text/x-python",
   "name": "python",
   "nbconvert_exporter": "python",
   "pygments_lexer": "ipython3",
   "version": "3.7.12"
  },
  "papermill": {
   "default_parameters": {},
   "duration": 18.880221,
   "end_time": "2023-04-18T04:35:29.384008",
   "environment_variables": {},
   "exception": null,
   "input_path": "__notebook__.ipynb",
   "output_path": "__notebook__.ipynb",
   "parameters": {},
   "start_time": "2023-04-18T04:35:10.503787",
   "version": "2.4.0"
  }
 },
 "nbformat": 4,
 "nbformat_minor": 5
}
